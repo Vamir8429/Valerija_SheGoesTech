{
 "cells": [
  {
   "cell_type": "markdown",
   "metadata": {},
   "source": [
    "#TODO \n",
    "* scrape any car data from ss.com\n",
    "* clean up prices as numerics\n",
    "* group by make and model\n",
    "* plot the data - pricing for sure\n",
    "* if you do more advanced analysis that also could be used for the final project\n",
    "\n",
    "* for those who want scraping part of final project\n",
    "* scrape data from somewhere else - maybe Lithuanian ss.com or wikipedia?"
   ]
  },
  {
   "cell_type": "code",
   "execution_count": 1,
   "metadata": {},
   "outputs": [],
   "source": [
    "import requests\n",
    "import time \n",
    "import pandas as pd\n",
    " \n",
    "from bs4 import BeautifulSoup"
   ]
  },
  {
   "cell_type": "code",
   "execution_count": 2,
   "metadata": {},
   "outputs": [
    {
     "data": {
      "text/plain": [
       "'https://www.ss.com/en/transport/cars/lexus/'"
      ]
     },
     "execution_count": 2,
     "metadata": {},
     "output_type": "execute_result"
    }
   ],
   "source": [
    "url = \"https://www.ss.com/en/transport/cars/lexus/\"\n",
    "url"
   ]
  },
  {
   "cell_type": "code",
   "execution_count": 3,
   "metadata": {},
   "outputs": [
    {
     "data": {
      "text/plain": [
       "200"
      ]
     },
     "execution_count": 3,
     "metadata": {},
     "output_type": "execute_result"
    }
   ],
   "source": [
    "req = requests.get(url)\n",
    "req.status_code "
   ]
  },
  {
   "cell_type": "code",
   "execution_count": 4,
   "metadata": {},
   "outputs": [
    {
     "data": {
      "text/plain": [
       "<title>SS.COM Cars - Lexus, Prices - Advertisements</title>"
      ]
     },
     "execution_count": 4,
     "metadata": {},
     "output_type": "execute_result"
    }
   ],
   "source": [
    "soup = BeautifulSoup(req.text, 'lxml')\n",
    "soup.title"
   ]
  },
  {
   "cell_type": "code",
   "execution_count": 5,
   "metadata": {},
   "outputs": [],
   "source": [
    "def getColList(soup, default_columns = (\"description\",\"url\")):\n",
    "    column_list = list(default_columns)\n",
    "    headline = soup.find(\"tr\", {\"id\":\"head_line\"})\n",
    "    headtds = headline.find_all(\"td\")\n",
    "    headcolumns = [el.text for el in headtds[1:]]\n",
    "    column_list += headcolumns\n",
    "    return column_list"
   ]
  },
  {
   "cell_type": "code",
   "execution_count": 6,
   "metadata": {},
   "outputs": [
    {
     "data": {
      "text/plain": [
       "['description', 'url', 'Model', 'Year', 'Volume', 'Run', 'Price']"
      ]
     },
     "execution_count": 6,
     "metadata": {},
     "output_type": "execute_result"
    }
   ],
   "source": [
    "column_names = getColList(soup)\n",
    "column_names"
   ]
  },
  {
   "cell_type": "code",
   "execution_count": 7,
   "metadata": {},
   "outputs": [],
   "source": [
    "def getRowList(soup):\n",
    "    trows = soup.find_all('tr')\n",
    "    aprows = [row for row in trows if row.get('id',\"\").startswith(\"tr_\") and not row.get('id',\"\").startswith(\"tr_bnr\") ]\n",
    "    return aprows"
   ]
  },
  {
   "cell_type": "code",
   "execution_count": 8,
   "metadata": {},
   "outputs": [],
   "source": [
    "def getRow(row,colist=column_names):\n",
    "    row_tds = row.find_all('td')\n",
    "    rowDict = {}\n",
    "    if len(row_tds) < 3:\n",
    "        print(\"Hmm bad row\")\n",
    "        return rowDict\n",
    "    rowDict[colist[0]] = row_tds[2].text\n",
    "    rowDict[colist[1]] = \"https://ss.com\" + row_tds[1].find('a').get('href')\n",
    "    for td,key in zip(row_tds[3:],colist[2:]): \n",
    "        rowDict[key] = td.text\n",
    "    return rowDict"
   ]
  },
  {
   "cell_type": "code",
   "execution_count": 9,
   "metadata": {},
   "outputs": [],
   "source": [
    "def getRows(rowlist,colist=column_names):\n",
    "    return [getRow(row, colist=colist) for row in rowlist]"
   ]
  },
  {
   "cell_type": "code",
   "execution_count": 10,
   "metadata": {},
   "outputs": [],
   "source": [
    "def getDFfromURL(url):\n",
    "    req = requests.get(url)\n",
    "    if req.status_code != 200:\n",
    "        print(\"Request Fail with\", req.status_code)\n",
    "        return None\n",
    "    soup = BeautifulSoup(req.text, 'lxml')\n",
    "    column_names = getColList(soup)\n",
    "    rowlist = getRowList(soup)\n",
    "    rows = getRows(rowlist,colist=column_names)\n",
    "    return pd.DataFrame(rows)"
   ]
  },
  {
   "cell_type": "code",
   "execution_count": 11,
   "metadata": {},
   "outputs": [
    {
     "data": {
      "text/plain": [
       "30"
      ]
     },
     "execution_count": 11,
     "metadata": {},
     "output_type": "execute_result"
    }
   ],
   "source": [
    "apt_rows = getRowList(soup)\n",
    "len(apt_rows)"
   ]
  },
  {
   "cell_type": "code",
   "execution_count": 12,
   "metadata": {},
   "outputs": [
    {
     "data": {
      "text/plain": [
       "[{'description': 'Pārdod Lexus GS 300 , automāts, bagātīga komplektācija, sēdekļi elektriskie ',\n",
       "  'url': 'https://ss.com/msg/en/transport/cars/lexus/gs/bfgkf.html',\n",
       "  'Model': 'GS',\n",
       "  'Year': '2006',\n",
       "  'Volume': '3.0',\n",
       "  'Run': '269 thd.',\n",
       "  'Price': '3,800  €'},\n",
       " {'description': 'Pārdod Lexus Is220 130 KW\\r\\nAuto labā stāvoklī\\r\\nMelns ādas salons \\r\\n2 Atslēga',\n",
       "  'url': 'https://ss.com/msg/en/transport/cars/lexus/is/dpxjf.html',\n",
       "  'Model': 'IS',\n",
       "  'Year': '2008',\n",
       "  'Volume': '2.2D',\n",
       "  'Run': '-',\n",
       "  'Price': '4,650  €'},\n",
       " {'description': 'Lexus is200, automats, benzins. \\r\\nAuto tiesham laba tehniska un vizuala stav',\n",
       "  'url': 'https://ss.com/msg/en/transport/cars/lexus/is/bdjoj.html',\n",
       "  'Model': 'IS',\n",
       "  'Year': '2003',\n",
       "  'Volume': '2.0',\n",
       "  'Run': '220 thd.',\n",
       "  'Price': '1,950  €'},\n",
       " {'description': 'Pārdošanā is220D 130kw jauna tehniska apskate, nodoklis nomaksāts, jauns yua',\n",
       "  'url': 'https://ss.com/msg/en/transport/cars/lexus/is/dxkof.html',\n",
       "  'Model': 'IS',\n",
       "  'Year': '2006',\n",
       "  'Volume': '2.2D',\n",
       "  'Run': '-',\n",
       "  'Price': '3,900  €'},\n",
       " {'description': 'Машина в хорошем состояние. На 160 000 была замена цепи. \\r\\nLaba tehniska sta',\n",
       "  'url': 'https://ss.com/msg/en/transport/cars/lexus/is/beclo.html',\n",
       "  'Model': 'IS',\n",
       "  'Year': '2008',\n",
       "  'Volume': '2.5',\n",
       "  'Run': '180 thd.',\n",
       "  'Price': '5,600  €'}]"
      ]
     },
     "execution_count": 12,
     "metadata": {},
     "output_type": "execute_result"
    }
   ],
   "source": [
    "row_ads = getRows(apt_rows)\n",
    "row_ads[:5]"
   ]
  },
  {
   "cell_type": "code",
   "execution_count": 13,
   "metadata": {},
   "outputs": [
    {
     "data": {
      "text/html": [
       "<div>\n",
       "<style scoped>\n",
       "    .dataframe tbody tr th:only-of-type {\n",
       "        vertical-align: middle;\n",
       "    }\n",
       "\n",
       "    .dataframe tbody tr th {\n",
       "        vertical-align: top;\n",
       "    }\n",
       "\n",
       "    .dataframe thead th {\n",
       "        text-align: right;\n",
       "    }\n",
       "</style>\n",
       "<table border=\"1\" class=\"dataframe\">\n",
       "  <thead>\n",
       "    <tr style=\"text-align: right;\">\n",
       "      <th></th>\n",
       "      <th>description</th>\n",
       "      <th>url</th>\n",
       "      <th>Model</th>\n",
       "      <th>Year</th>\n",
       "      <th>Volume</th>\n",
       "      <th>Run</th>\n",
       "      <th>Price</th>\n",
       "    </tr>\n",
       "  </thead>\n",
       "  <tbody>\n",
       "    <tr>\n",
       "      <th>0</th>\n",
       "      <td>Pārdod Lexus GS 300 , automāts, bagātīga kompl...</td>\n",
       "      <td>https://ss.com/msg/en/transport/cars/lexus/gs/...</td>\n",
       "      <td>GS</td>\n",
       "      <td>2006</td>\n",
       "      <td>3.0</td>\n",
       "      <td>269 thd.</td>\n",
       "      <td>3,800  €</td>\n",
       "    </tr>\n",
       "    <tr>\n",
       "      <th>1</th>\n",
       "      <td>Pārdod Lexus Is220 130 KW\\r\\nAuto labā stāvokl...</td>\n",
       "      <td>https://ss.com/msg/en/transport/cars/lexus/is/...</td>\n",
       "      <td>IS</td>\n",
       "      <td>2008</td>\n",
       "      <td>2.2D</td>\n",
       "      <td>-</td>\n",
       "      <td>4,650  €</td>\n",
       "    </tr>\n",
       "    <tr>\n",
       "      <th>2</th>\n",
       "      <td>Lexus is200, automats, benzins. \\r\\nAuto tiesh...</td>\n",
       "      <td>https://ss.com/msg/en/transport/cars/lexus/is/...</td>\n",
       "      <td>IS</td>\n",
       "      <td>2003</td>\n",
       "      <td>2.0</td>\n",
       "      <td>220 thd.</td>\n",
       "      <td>1,950  €</td>\n",
       "    </tr>\n",
       "    <tr>\n",
       "      <th>3</th>\n",
       "      <td>Pārdošanā is220D 130kw jauna tehniska apskate,...</td>\n",
       "      <td>https://ss.com/msg/en/transport/cars/lexus/is/...</td>\n",
       "      <td>IS</td>\n",
       "      <td>2006</td>\n",
       "      <td>2.2D</td>\n",
       "      <td>-</td>\n",
       "      <td>3,900  €</td>\n",
       "    </tr>\n",
       "    <tr>\n",
       "      <th>4</th>\n",
       "      <td>Машина в хорошем состояние. На 160 000 была за...</td>\n",
       "      <td>https://ss.com/msg/en/transport/cars/lexus/is/...</td>\n",
       "      <td>IS</td>\n",
       "      <td>2008</td>\n",
       "      <td>2.5</td>\n",
       "      <td>180 thd.</td>\n",
       "      <td>5,600  €</td>\n",
       "    </tr>\n",
       "  </tbody>\n",
       "</table>\n",
       "</div>"
      ],
      "text/plain": [
       "                                         description  \\\n",
       "0  Pārdod Lexus GS 300 , automāts, bagātīga kompl...   \n",
       "1  Pārdod Lexus Is220 130 KW\\r\\nAuto labā stāvokl...   \n",
       "2  Lexus is200, automats, benzins. \\r\\nAuto tiesh...   \n",
       "3  Pārdošanā is220D 130kw jauna tehniska apskate,...   \n",
       "4  Машина в хорошем состояние. На 160 000 была за...   \n",
       "\n",
       "                                                 url Model  Year Volume  \\\n",
       "0  https://ss.com/msg/en/transport/cars/lexus/gs/...    GS  2006    3.0   \n",
       "1  https://ss.com/msg/en/transport/cars/lexus/is/...    IS  2008   2.2D   \n",
       "2  https://ss.com/msg/en/transport/cars/lexus/is/...    IS  2003    2.0   \n",
       "3  https://ss.com/msg/en/transport/cars/lexus/is/...    IS  2006   2.2D   \n",
       "4  https://ss.com/msg/en/transport/cars/lexus/is/...    IS  2008    2.5   \n",
       "\n",
       "        Run     Price  \n",
       "0  269 thd.  3,800  €  \n",
       "1         -  4,650  €  \n",
       "2  220 thd.  1,950  €  \n",
       "3         -  3,900  €  \n",
       "4  180 thd.  5,600  €  "
      ]
     },
     "execution_count": 13,
     "metadata": {},
     "output_type": "execute_result"
    }
   ],
   "source": [
    "dtemp = pd.DataFrame(row_ads)\n",
    "dtemp.head()"
   ]
  },
  {
   "cell_type": "code",
   "execution_count": 14,
   "metadata": {},
   "outputs": [
    {
     "data": {
      "text/plain": [
       "(30, 7)"
      ]
     },
     "execution_count": 14,
     "metadata": {},
     "output_type": "execute_result"
    }
   ],
   "source": [
    "dtemp.shape"
   ]
  },
  {
   "cell_type": "code",
   "execution_count": 15,
   "metadata": {},
   "outputs": [
    {
     "data": {
      "text/plain": [
       "120"
      ]
     },
     "execution_count": 15,
     "metadata": {},
     "output_type": "execute_result"
    }
   ],
   "source": [
    "anchors = soup.find_all(\"a\")\n",
    "len(anchors)"
   ]
  },
  {
   "cell_type": "code",
   "execution_count": 16,
   "metadata": {},
   "outputs": [
    {
     "data": {
      "text/plain": [
       "9"
      ]
     },
     "execution_count": 16,
     "metadata": {},
     "output_type": "execute_result"
    }
   ],
   "source": [
    "navs = [anchor for anchor in anchors if anchor.get(\"name\") == \"nav_id\"]\n",
    "len(navs)"
   ]
  },
  {
   "cell_type": "code",
   "execution_count": 17,
   "metadata": {},
   "outputs": [
    {
     "data": {
      "text/plain": [
       "'8.html'"
      ]
     },
     "execution_count": 17,
     "metadata": {},
     "output_type": "execute_result"
    }
   ],
   "source": [
    "afterpage = navs[0]['href'].split(\"/page\")[-1]\n",
    "afterpage"
   ]
  },
  {
   "cell_type": "code",
   "execution_count": 18,
   "metadata": {},
   "outputs": [
    {
     "data": {
      "text/plain": [
       "'8'"
      ]
     },
     "execution_count": 18,
     "metadata": {},
     "output_type": "execute_result"
    }
   ],
   "source": [
    "beforedot = afterpage.split(\".html\")[0]\n",
    "beforedot"
   ]
  },
  {
   "cell_type": "code",
   "execution_count": 19,
   "metadata": {},
   "outputs": [
    {
     "data": {
      "text/plain": [
       "8"
      ]
     },
     "execution_count": 19,
     "metadata": {},
     "output_type": "execute_result"
    }
   ],
   "source": [
    "lastpage = int(beforedot)\n",
    "lastpage"
   ]
  },
  {
   "cell_type": "code",
   "execution_count": 20,
   "metadata": {},
   "outputs": [],
   "source": [
    "def getAllLocalUrls(url):\n",
    "    \"\"\"Get a list of all urls including paginated pages\"\"\"\n",
    "    results = [url]\n",
    "    req = requests.get(url)\n",
    "    if req.status_code != 200:\n",
    "        print(f\"Bad response! {req.status_code}\")\n",
    "        return []\n",
    "    soup = BeautifulSoup(req.text, 'lxml')\n",
    "    prevanchor = soup.find('a', {\"rel\":\"prev\"})\n",
    "    if prevanchor == None:\n",
    "        return results \n",
    "    href = prevanchor.attrs.get('href')\n",
    "    lastPageNum = int(href.split('/page')[-1].split('.html')[0])\n",
    "    print(\"Last page is\",lastPageNum)\n",
    "    nurls = [f\"{url}page{n}.html\" for n in range(2,lastPageNum+1)]\n",
    "    results += nurls\n",
    "    return results"
   ]
  },
  {
   "cell_type": "code",
   "execution_count": 21,
   "metadata": {},
   "outputs": [
    {
     "name": "stdout",
     "output_type": "stream",
     "text": [
      "Last page is 8\n"
     ]
    },
    {
     "data": {
      "text/plain": [
       "(8,\n",
       " ['https://www.ss.com/en/transport/cars/lexus/',\n",
       "  'https://www.ss.com/en/transport/cars/lexus/page2.html',\n",
       "  'https://www.ss.com/en/transport/cars/lexus/page3.html',\n",
       "  'https://www.ss.com/en/transport/cars/lexus/page4.html',\n",
       "  'https://www.ss.com/en/transport/cars/lexus/page5.html',\n",
       "  'https://www.ss.com/en/transport/cars/lexus/page6.html',\n",
       "  'https://www.ss.com/en/transport/cars/lexus/page7.html',\n",
       "  'https://www.ss.com/en/transport/cars/lexus/page8.html'],\n",
       " 'https://www.ss.com/en/transport/cars/lexus/page8.html')"
      ]
     },
     "execution_count": 21,
     "metadata": {},
     "output_type": "execute_result"
    }
   ],
   "source": [
    "local_urls = getAllLocalUrls(url)\n",
    "len(local_urls),local_urls,local_urls[-1]"
   ]
  },
  {
   "cell_type": "code",
   "execution_count": 22,
   "metadata": {},
   "outputs": [
    {
     "data": {
      "text/plain": [
       "(15, 7)"
      ]
     },
     "execution_count": 22,
     "metadata": {},
     "output_type": "execute_result"
    }
   ],
   "source": [
    "dlast = getDFfromURL(local_urls[-1])\n",
    "dlast.shape"
   ]
  },
  {
   "cell_type": "code",
   "execution_count": 23,
   "metadata": {},
   "outputs": [],
   "source": [
    "def get_all_ads_df(start_url, save_excel_path=None, save_csv_path=None):\n",
    "    df_list=[]\n",
    "    local_urls = getAllLocalUrls(start_url)\n",
    "    for url in local_urls:\n",
    "        print(f\"Gathering data from {url}\")\n",
    "        df_list.append(getDFfromURL(url))\n",
    "        time.sleep(0.3)\n",
    "    # https://pandas.pydata.org/pandas-docs/stable/reference/api/pandas.concat.html\n",
    "    big_df = pd.concat(df_list)\n",
    "    if save_excel_path:\n",
    "        big_df.to_excel(save_excel_path)\n",
    "    if save_csv_path:\n",
    "        big_df.to_csv(save_csv_path,encoding=\"utf-8\")\n",
    "    return big_df"
   ]
  },
  {
   "cell_type": "code",
   "execution_count": 24,
   "metadata": {},
   "outputs": [
    {
     "name": "stdout",
     "output_type": "stream",
     "text": [
      "Last page is 8\n",
      "Gathering data from https://www.ss.com/en/transport/cars/lexus/\n",
      "Gathering data from https://www.ss.com/en/transport/cars/lexus/page2.html\n",
      "Gathering data from https://www.ss.com/en/transport/cars/lexus/page3.html\n",
      "Gathering data from https://www.ss.com/en/transport/cars/lexus/page4.html\n",
      "Gathering data from https://www.ss.com/en/transport/cars/lexus/page5.html\n",
      "Gathering data from https://www.ss.com/en/transport/cars/lexus/page6.html\n",
      "Gathering data from https://www.ss.com/en/transport/cars/lexus/page7.html\n",
      "Gathering data from https://www.ss.com/en/transport/cars/lexus/page8.html\n"
     ]
    }
   ],
   "source": [
    "lexus_data = get_all_ads_df(url, \"lexus_data.xlsx\")"
   ]
  },
  {
   "cell_type": "code",
   "execution_count": 25,
   "metadata": {},
   "outputs": [
    {
     "data": {
      "text/plain": [
       "(225, 7)"
      ]
     },
     "execution_count": 25,
     "metadata": {},
     "output_type": "execute_result"
    }
   ],
   "source": [
    "lexus_data.shape"
   ]
  },
  {
   "cell_type": "code",
   "execution_count": 26,
   "metadata": {},
   "outputs": [
    {
     "data": {
      "text/html": [
       "<div>\n",
       "<style scoped>\n",
       "    .dataframe tbody tr th:only-of-type {\n",
       "        vertical-align: middle;\n",
       "    }\n",
       "\n",
       "    .dataframe tbody tr th {\n",
       "        vertical-align: top;\n",
       "    }\n",
       "\n",
       "    .dataframe thead th {\n",
       "        text-align: right;\n",
       "    }\n",
       "</style>\n",
       "<table border=\"1\" class=\"dataframe\">\n",
       "  <thead>\n",
       "    <tr style=\"text-align: right;\">\n",
       "      <th></th>\n",
       "      <th>description</th>\n",
       "      <th>url</th>\n",
       "      <th>Model</th>\n",
       "      <th>Year</th>\n",
       "      <th>Volume</th>\n",
       "      <th>Run</th>\n",
       "      <th>Price</th>\n",
       "    </tr>\n",
       "  </thead>\n",
       "  <tbody>\n",
       "    <tr>\n",
       "      <th>0</th>\n",
       "      <td>Pārdod Lexus GS 300 , automāts, bagātīga kompl...</td>\n",
       "      <td>https://ss.com/msg/en/transport/cars/lexus/gs/...</td>\n",
       "      <td>GS</td>\n",
       "      <td>2006</td>\n",
       "      <td>3.0</td>\n",
       "      <td>269 thd.</td>\n",
       "      <td>3,800  €</td>\n",
       "    </tr>\n",
       "    <tr>\n",
       "      <th>1</th>\n",
       "      <td>Pārdod Lexus Is220 130 KW\\r\\nAuto labā stāvokl...</td>\n",
       "      <td>https://ss.com/msg/en/transport/cars/lexus/is/...</td>\n",
       "      <td>IS</td>\n",
       "      <td>2008</td>\n",
       "      <td>2.2D</td>\n",
       "      <td>-</td>\n",
       "      <td>4,650  €</td>\n",
       "    </tr>\n",
       "    <tr>\n",
       "      <th>2</th>\n",
       "      <td>Lexus is200, automats, benzins. \\r\\nAuto tiesh...</td>\n",
       "      <td>https://ss.com/msg/en/transport/cars/lexus/is/...</td>\n",
       "      <td>IS</td>\n",
       "      <td>2003</td>\n",
       "      <td>2.0</td>\n",
       "      <td>220 thd.</td>\n",
       "      <td>1,950  €</td>\n",
       "    </tr>\n",
       "    <tr>\n",
       "      <th>3</th>\n",
       "      <td>Pārdošanā is220D 130kw jauna tehniska apskate,...</td>\n",
       "      <td>https://ss.com/msg/en/transport/cars/lexus/is/...</td>\n",
       "      <td>IS</td>\n",
       "      <td>2006</td>\n",
       "      <td>2.2D</td>\n",
       "      <td>-</td>\n",
       "      <td>3,900  €</td>\n",
       "    </tr>\n",
       "    <tr>\n",
       "      <th>4</th>\n",
       "      <td>Машина в хорошем состояние. На 160 000 была за...</td>\n",
       "      <td>https://ss.com/msg/en/transport/cars/lexus/is/...</td>\n",
       "      <td>IS</td>\n",
       "      <td>2008</td>\n",
       "      <td>2.5</td>\n",
       "      <td>180 thd.</td>\n",
       "      <td>5,600  €</td>\n",
       "    </tr>\n",
       "  </tbody>\n",
       "</table>\n",
       "</div>"
      ],
      "text/plain": [
       "                                         description  \\\n",
       "0  Pārdod Lexus GS 300 , automāts, bagātīga kompl...   \n",
       "1  Pārdod Lexus Is220 130 KW\\r\\nAuto labā stāvokl...   \n",
       "2  Lexus is200, automats, benzins. \\r\\nAuto tiesh...   \n",
       "3  Pārdošanā is220D 130kw jauna tehniska apskate,...   \n",
       "4  Машина в хорошем состояние. На 160 000 была за...   \n",
       "\n",
       "                                                 url Model  Year Volume  \\\n",
       "0  https://ss.com/msg/en/transport/cars/lexus/gs/...    GS  2006    3.0   \n",
       "1  https://ss.com/msg/en/transport/cars/lexus/is/...    IS  2008   2.2D   \n",
       "2  https://ss.com/msg/en/transport/cars/lexus/is/...    IS  2003    2.0   \n",
       "3  https://ss.com/msg/en/transport/cars/lexus/is/...    IS  2006   2.2D   \n",
       "4  https://ss.com/msg/en/transport/cars/lexus/is/...    IS  2008    2.5   \n",
       "\n",
       "        Run     Price  \n",
       "0  269 thd.  3,800  €  \n",
       "1         -  4,650  €  \n",
       "2  220 thd.  1,950  €  \n",
       "3         -  3,900  €  \n",
       "4  180 thd.  5,600  €  "
      ]
     },
     "execution_count": 26,
     "metadata": {},
     "output_type": "execute_result"
    }
   ],
   "source": [
    "lexus_data.head()"
   ]
  },
  {
   "cell_type": "code",
   "execution_count": 27,
   "metadata": {},
   "outputs": [
    {
     "data": {
      "text/plain": [
       "(225, 8)"
      ]
     },
     "execution_count": 27,
     "metadata": {},
     "output_type": "execute_result"
    }
   ],
   "source": [
    "lexus_info = pd.read_excel(\"lexus_data.xlsx\")\n",
    "lexus_info.shape"
   ]
  },
  {
   "cell_type": "code",
   "execution_count": 28,
   "metadata": {},
   "outputs": [
    {
     "name": "stdout",
     "output_type": "stream",
     "text": [
      "<class 'pandas.core.frame.DataFrame'>\n",
      "RangeIndex: 225 entries, 0 to 224\n",
      "Data columns (total 8 columns):\n",
      " #   Column       Non-Null Count  Dtype \n",
      "---  ------       --------------  ----- \n",
      " 0   Unnamed: 0   225 non-null    int64 \n",
      " 1   description  225 non-null    object\n",
      " 2   url          225 non-null    object\n",
      " 3   Model        225 non-null    object\n",
      " 4   Year         225 non-null    object\n",
      " 5   Volume       225 non-null    object\n",
      " 6   Run          225 non-null    object\n",
      " 7   Price        225 non-null    object\n",
      "dtypes: int64(1), object(7)\n",
      "memory usage: 14.2+ KB\n"
     ]
    }
   ],
   "source": [
    "lexus_info.info()"
   ]
  },
  {
   "cell_type": "code",
   "execution_count": 29,
   "metadata": {},
   "outputs": [
    {
     "data": {
      "text/plain": [
       "count      189.000000\n",
       "mean     15573.740741\n",
       "std      12882.937903\n",
       "min       1950.000000\n",
       "25%       5777.000000\n",
       "50%       9990.000000\n",
       "75%      22300.000000\n",
       "max      49990.000000\n",
       "Name: Price, dtype: float64"
      ]
     },
     "execution_count": 29,
     "metadata": {},
     "output_type": "execute_result"
    }
   ],
   "source": [
    "lexus_info['Price'] = lexus_info['Price'].str.replace(\"€\",\"\")\n",
    "lexus_info['Price'] = lexus_info['Price'].str.replace(\",\",\"\")\n",
    "lexus_info.Price.head()\n",
    "lexus_info['Price'] = pd.to_numeric(lexus_info['Price'], errors='coerce')\n",
    "lexus_info['Price'].describe()"
   ]
  },
  {
   "cell_type": "code",
   "execution_count": 30,
   "metadata": {},
   "outputs": [],
   "source": [
    "lexus_info['Volume'] = pd.to_numeric(lexus_info['Volume'], errors='coerce')"
   ]
  },
  {
   "cell_type": "code",
   "execution_count": 31,
   "metadata": {},
   "outputs": [
    {
     "data": {
      "text/html": [
       "<div>\n",
       "<style scoped>\n",
       "    .dataframe tbody tr th:only-of-type {\n",
       "        vertical-align: middle;\n",
       "    }\n",
       "\n",
       "    .dataframe tbody tr th {\n",
       "        vertical-align: top;\n",
       "    }\n",
       "\n",
       "    .dataframe thead th {\n",
       "        text-align: right;\n",
       "    }\n",
       "</style>\n",
       "<table border=\"1\" class=\"dataframe\">\n",
       "  <thead>\n",
       "    <tr style=\"text-align: right;\">\n",
       "      <th></th>\n",
       "      <th>Unnamed: 0</th>\n",
       "      <th>description</th>\n",
       "      <th>url</th>\n",
       "      <th>Model</th>\n",
       "      <th>Year</th>\n",
       "      <th>Volume</th>\n",
       "      <th>Run</th>\n",
       "      <th>Price</th>\n",
       "    </tr>\n",
       "  </thead>\n",
       "  <tbody>\n",
       "    <tr>\n",
       "      <th>0</th>\n",
       "      <td>0</td>\n",
       "      <td>Pārdod Lexus GS 300 , automāts, bagātīga kompl...</td>\n",
       "      <td>https://ss.com/msg/en/transport/cars/lexus/gs/...</td>\n",
       "      <td>GS</td>\n",
       "      <td>2006</td>\n",
       "      <td>3.0</td>\n",
       "      <td>269 thd.</td>\n",
       "      <td>3800.0</td>\n",
       "    </tr>\n",
       "    <tr>\n",
       "      <th>1</th>\n",
       "      <td>1</td>\n",
       "      <td>Pārdod Lexus Is220 130 KW\\r\\nAuto labā stāvokl...</td>\n",
       "      <td>https://ss.com/msg/en/transport/cars/lexus/is/...</td>\n",
       "      <td>IS</td>\n",
       "      <td>2008</td>\n",
       "      <td>NaN</td>\n",
       "      <td>-</td>\n",
       "      <td>4650.0</td>\n",
       "    </tr>\n",
       "    <tr>\n",
       "      <th>2</th>\n",
       "      <td>2</td>\n",
       "      <td>Lexus is200, automats, benzins. \\r\\nAuto tiesh...</td>\n",
       "      <td>https://ss.com/msg/en/transport/cars/lexus/is/...</td>\n",
       "      <td>IS</td>\n",
       "      <td>2003</td>\n",
       "      <td>2.0</td>\n",
       "      <td>220 thd.</td>\n",
       "      <td>1950.0</td>\n",
       "    </tr>\n",
       "    <tr>\n",
       "      <th>3</th>\n",
       "      <td>3</td>\n",
       "      <td>Pārdošanā is220D 130kw jauna tehniska apskate,...</td>\n",
       "      <td>https://ss.com/msg/en/transport/cars/lexus/is/...</td>\n",
       "      <td>IS</td>\n",
       "      <td>2006</td>\n",
       "      <td>NaN</td>\n",
       "      <td>-</td>\n",
       "      <td>3900.0</td>\n",
       "    </tr>\n",
       "    <tr>\n",
       "      <th>4</th>\n",
       "      <td>4</td>\n",
       "      <td>Машина в хорошем состояние. На 160 000 была за...</td>\n",
       "      <td>https://ss.com/msg/en/transport/cars/lexus/is/...</td>\n",
       "      <td>IS</td>\n",
       "      <td>2008</td>\n",
       "      <td>2.5</td>\n",
       "      <td>180 thd.</td>\n",
       "      <td>5600.0</td>\n",
       "    </tr>\n",
       "  </tbody>\n",
       "</table>\n",
       "</div>"
      ],
      "text/plain": [
       "   Unnamed: 0                                        description  \\\n",
       "0           0  Pārdod Lexus GS 300 , automāts, bagātīga kompl...   \n",
       "1           1  Pārdod Lexus Is220 130 KW\\r\\nAuto labā stāvokl...   \n",
       "2           2  Lexus is200, automats, benzins. \\r\\nAuto tiesh...   \n",
       "3           3  Pārdošanā is220D 130kw jauna tehniska apskate,...   \n",
       "4           4  Машина в хорошем состояние. На 160 000 была за...   \n",
       "\n",
       "                                                 url Model  Year  Volume  \\\n",
       "0  https://ss.com/msg/en/transport/cars/lexus/gs/...    GS  2006     3.0   \n",
       "1  https://ss.com/msg/en/transport/cars/lexus/is/...    IS  2008     NaN   \n",
       "2  https://ss.com/msg/en/transport/cars/lexus/is/...    IS  2003     2.0   \n",
       "3  https://ss.com/msg/en/transport/cars/lexus/is/...    IS  2006     NaN   \n",
       "4  https://ss.com/msg/en/transport/cars/lexus/is/...    IS  2008     2.5   \n",
       "\n",
       "        Run   Price  \n",
       "0  269 thd.  3800.0  \n",
       "1         -  4650.0  \n",
       "2  220 thd.  1950.0  \n",
       "3         -  3900.0  \n",
       "4  180 thd.  5600.0  "
      ]
     },
     "execution_count": 31,
     "metadata": {},
     "output_type": "execute_result"
    }
   ],
   "source": [
    "lexus_info.head()"
   ]
  },
  {
   "cell_type": "code",
   "execution_count": 32,
   "metadata": {},
   "outputs": [
    {
     "data": {
      "text/html": [
       "<div>\n",
       "<style scoped>\n",
       "    .dataframe tbody tr th:only-of-type {\n",
       "        vertical-align: middle;\n",
       "    }\n",
       "\n",
       "    .dataframe tbody tr th {\n",
       "        vertical-align: top;\n",
       "    }\n",
       "\n",
       "    .dataframe thead tr th {\n",
       "        text-align: left;\n",
       "    }\n",
       "\n",
       "    .dataframe thead tr:last-of-type th {\n",
       "        text-align: right;\n",
       "    }\n",
       "</style>\n",
       "<table border=\"1\" class=\"dataframe\">\n",
       "  <thead>\n",
       "    <tr>\n",
       "      <th></th>\n",
       "      <th colspan=\"5\" halign=\"left\">Volume</th>\n",
       "      <th colspan=\"5\" halign=\"left\">Price</th>\n",
       "    </tr>\n",
       "    <tr>\n",
       "      <th></th>\n",
       "      <th>mean</th>\n",
       "      <th>median</th>\n",
       "      <th>min</th>\n",
       "      <th>max</th>\n",
       "      <th>count</th>\n",
       "      <th>mean</th>\n",
       "      <th>median</th>\n",
       "      <th>min</th>\n",
       "      <th>max</th>\n",
       "      <th>count</th>\n",
       "    </tr>\n",
       "    <tr>\n",
       "      <th>Model</th>\n",
       "      <th></th>\n",
       "      <th></th>\n",
       "      <th></th>\n",
       "      <th></th>\n",
       "      <th></th>\n",
       "      <th></th>\n",
       "      <th></th>\n",
       "      <th></th>\n",
       "      <th></th>\n",
       "      <th></th>\n",
       "    </tr>\n",
       "  </thead>\n",
       "  <tbody>\n",
       "    <tr>\n",
       "      <th>120</th>\n",
       "      <td>NaN</td>\n",
       "      <td>NaN</td>\n",
       "      <td>NaN</td>\n",
       "      <td>NaN</td>\n",
       "      <td>0</td>\n",
       "      <td>NaN</td>\n",
       "      <td>NaN</td>\n",
       "      <td>NaN</td>\n",
       "      <td>NaN</td>\n",
       "      <td>0</td>\n",
       "    </tr>\n",
       "    <tr>\n",
       "      <th>Accord</th>\n",
       "      <td>2.000000</td>\n",
       "      <td>2.00</td>\n",
       "      <td>2.0</td>\n",
       "      <td>2.0</td>\n",
       "      <td>1</td>\n",
       "      <td>NaN</td>\n",
       "      <td>NaN</td>\n",
       "      <td>NaN</td>\n",
       "      <td>NaN</td>\n",
       "      <td>0</td>\n",
       "    </tr>\n",
       "    <tr>\n",
       "      <th>Another</th>\n",
       "      <td>NaN</td>\n",
       "      <td>NaN</td>\n",
       "      <td>NaN</td>\n",
       "      <td>NaN</td>\n",
       "      <td>0</td>\n",
       "      <td>NaN</td>\n",
       "      <td>NaN</td>\n",
       "      <td>NaN</td>\n",
       "      <td>NaN</td>\n",
       "      <td>0</td>\n",
       "    </tr>\n",
       "    <tr>\n",
       "      <th>CT</th>\n",
       "      <td>1.800000</td>\n",
       "      <td>1.80</td>\n",
       "      <td>1.8</td>\n",
       "      <td>1.8</td>\n",
       "      <td>1</td>\n",
       "      <td>12755.642857</td>\n",
       "      <td>12250.0</td>\n",
       "      <td>9850.0</td>\n",
       "      <td>16999.0</td>\n",
       "      <td>14</td>\n",
       "    </tr>\n",
       "    <tr>\n",
       "      <th>Civic</th>\n",
       "      <td>1.800000</td>\n",
       "      <td>1.80</td>\n",
       "      <td>1.8</td>\n",
       "      <td>1.8</td>\n",
       "      <td>1</td>\n",
       "      <td>NaN</td>\n",
       "      <td>NaN</td>\n",
       "      <td>NaN</td>\n",
       "      <td>NaN</td>\n",
       "      <td>0</td>\n",
       "    </tr>\n",
       "    <tr>\n",
       "      <th>ES</th>\n",
       "      <td>3.000000</td>\n",
       "      <td>3.00</td>\n",
       "      <td>3.0</td>\n",
       "      <td>3.0</td>\n",
       "      <td>1</td>\n",
       "      <td>35162.500000</td>\n",
       "      <td>44950.0</td>\n",
       "      <td>3250.0</td>\n",
       "      <td>47500.0</td>\n",
       "      <td>4</td>\n",
       "    </tr>\n",
       "    <tr>\n",
       "      <th>GS</th>\n",
       "      <td>2.937500</td>\n",
       "      <td>3.00</td>\n",
       "      <td>2.5</td>\n",
       "      <td>3.5</td>\n",
       "      <td>24</td>\n",
       "      <td>11917.352941</td>\n",
       "      <td>6797.5</td>\n",
       "      <td>2300.0</td>\n",
       "      <td>34000.0</td>\n",
       "      <td>34</td>\n",
       "    </tr>\n",
       "    <tr>\n",
       "      <th>GX</th>\n",
       "      <td>4.650000</td>\n",
       "      <td>4.65</td>\n",
       "      <td>4.6</td>\n",
       "      <td>4.7</td>\n",
       "      <td>2</td>\n",
       "      <td>22125.000000</td>\n",
       "      <td>22125.0</td>\n",
       "      <td>14750.0</td>\n",
       "      <td>29500.0</td>\n",
       "      <td>2</td>\n",
       "    </tr>\n",
       "    <tr>\n",
       "      <th>Highlander</th>\n",
       "      <td>3.300000</td>\n",
       "      <td>3.30</td>\n",
       "      <td>3.3</td>\n",
       "      <td>3.3</td>\n",
       "      <td>1</td>\n",
       "      <td>NaN</td>\n",
       "      <td>NaN</td>\n",
       "      <td>NaN</td>\n",
       "      <td>NaN</td>\n",
       "      <td>0</td>\n",
       "    </tr>\n",
       "    <tr>\n",
       "      <th>IS</th>\n",
       "      <td>2.435484</td>\n",
       "      <td>2.50</td>\n",
       "      <td>2.0</td>\n",
       "      <td>3.0</td>\n",
       "      <td>31</td>\n",
       "      <td>6785.576923</td>\n",
       "      <td>5550.0</td>\n",
       "      <td>1950.0</td>\n",
       "      <td>22500.0</td>\n",
       "      <td>52</td>\n",
       "    </tr>\n",
       "    <tr>\n",
       "      <th>LS</th>\n",
       "      <td>4.000000</td>\n",
       "      <td>4.45</td>\n",
       "      <td>2.5</td>\n",
       "      <td>4.6</td>\n",
       "      <td>4</td>\n",
       "      <td>10331.666667</td>\n",
       "      <td>9595.0</td>\n",
       "      <td>4000.0</td>\n",
       "      <td>18900.0</td>\n",
       "      <td>6</td>\n",
       "    </tr>\n",
       "    <tr>\n",
       "      <th>LX</th>\n",
       "      <td>5.700000</td>\n",
       "      <td>5.70</td>\n",
       "      <td>5.7</td>\n",
       "      <td>5.7</td>\n",
       "      <td>1</td>\n",
       "      <td>49900.000000</td>\n",
       "      <td>49900.0</td>\n",
       "      <td>49900.0</td>\n",
       "      <td>49900.0</td>\n",
       "      <td>1</td>\n",
       "    </tr>\n",
       "    <tr>\n",
       "      <th>NX</th>\n",
       "      <td>2.166667</td>\n",
       "      <td>2.00</td>\n",
       "      <td>2.0</td>\n",
       "      <td>2.5</td>\n",
       "      <td>3</td>\n",
       "      <td>33106.666667</td>\n",
       "      <td>33500.0</td>\n",
       "      <td>21500.0</td>\n",
       "      <td>47000.0</td>\n",
       "      <td>21</td>\n",
       "    </tr>\n",
       "    <tr>\n",
       "      <th>RC</th>\n",
       "      <td>3.500000</td>\n",
       "      <td>3.50</td>\n",
       "      <td>3.5</td>\n",
       "      <td>3.5</td>\n",
       "      <td>1</td>\n",
       "      <td>25500.000000</td>\n",
       "      <td>25500.0</td>\n",
       "      <td>25500.0</td>\n",
       "      <td>25500.0</td>\n",
       "      <td>1</td>\n",
       "    </tr>\n",
       "    <tr>\n",
       "      <th>RX</th>\n",
       "      <td>2.965000</td>\n",
       "      <td>3.00</td>\n",
       "      <td>2.0</td>\n",
       "      <td>3.5</td>\n",
       "      <td>20</td>\n",
       "      <td>16559.142857</td>\n",
       "      <td>13100.0</td>\n",
       "      <td>3800.0</td>\n",
       "      <td>47900.0</td>\n",
       "      <td>49</td>\n",
       "    </tr>\n",
       "    <tr>\n",
       "      <th>SC</th>\n",
       "      <td>4.300000</td>\n",
       "      <td>4.30</td>\n",
       "      <td>4.3</td>\n",
       "      <td>4.3</td>\n",
       "      <td>1</td>\n",
       "      <td>12500.000000</td>\n",
       "      <td>12500.0</td>\n",
       "      <td>12500.0</td>\n",
       "      <td>12500.0</td>\n",
       "      <td>1</td>\n",
       "    </tr>\n",
       "    <tr>\n",
       "      <th>UX</th>\n",
       "      <td>NaN</td>\n",
       "      <td>NaN</td>\n",
       "      <td>NaN</td>\n",
       "      <td>NaN</td>\n",
       "      <td>0</td>\n",
       "      <td>41347.500000</td>\n",
       "      <td>39850.0</td>\n",
       "      <td>35700.0</td>\n",
       "      <td>49990.0</td>\n",
       "      <td>4</td>\n",
       "    </tr>\n",
       "  </tbody>\n",
       "</table>\n",
       "</div>"
      ],
      "text/plain": [
       "              Volume                                Price                    \\\n",
       "                mean median  min  max count          mean   median      min   \n",
       "Model                                                                         \n",
       "120              NaN    NaN  NaN  NaN     0           NaN      NaN      NaN   \n",
       "Accord      2.000000   2.00  2.0  2.0     1           NaN      NaN      NaN   \n",
       "Another          NaN    NaN  NaN  NaN     0           NaN      NaN      NaN   \n",
       "CT          1.800000   1.80  1.8  1.8     1  12755.642857  12250.0   9850.0   \n",
       "Civic       1.800000   1.80  1.8  1.8     1           NaN      NaN      NaN   \n",
       "ES          3.000000   3.00  3.0  3.0     1  35162.500000  44950.0   3250.0   \n",
       "GS          2.937500   3.00  2.5  3.5    24  11917.352941   6797.5   2300.0   \n",
       "GX          4.650000   4.65  4.6  4.7     2  22125.000000  22125.0  14750.0   \n",
       "Highlander  3.300000   3.30  3.3  3.3     1           NaN      NaN      NaN   \n",
       "IS          2.435484   2.50  2.0  3.0    31   6785.576923   5550.0   1950.0   \n",
       "LS          4.000000   4.45  2.5  4.6     4  10331.666667   9595.0   4000.0   \n",
       "LX          5.700000   5.70  5.7  5.7     1  49900.000000  49900.0  49900.0   \n",
       "NX          2.166667   2.00  2.0  2.5     3  33106.666667  33500.0  21500.0   \n",
       "RC          3.500000   3.50  3.5  3.5     1  25500.000000  25500.0  25500.0   \n",
       "RX          2.965000   3.00  2.0  3.5    20  16559.142857  13100.0   3800.0   \n",
       "SC          4.300000   4.30  4.3  4.3     1  12500.000000  12500.0  12500.0   \n",
       "UX               NaN    NaN  NaN  NaN     0  41347.500000  39850.0  35700.0   \n",
       "\n",
       "                           \n",
       "                max count  \n",
       "Model                      \n",
       "120             NaN     0  \n",
       "Accord          NaN     0  \n",
       "Another         NaN     0  \n",
       "CT          16999.0    14  \n",
       "Civic           NaN     0  \n",
       "ES          47500.0     4  \n",
       "GS          34000.0    34  \n",
       "GX          29500.0     2  \n",
       "Highlander      NaN     0  \n",
       "IS          22500.0    52  \n",
       "LS          18900.0     6  \n",
       "LX          49900.0     1  \n",
       "NX          47000.0    21  \n",
       "RC          25500.0     1  \n",
       "RX          47900.0    49  \n",
       "SC          12500.0     1  \n",
       "UX          49990.0     4  "
      ]
     },
     "execution_count": 32,
     "metadata": {},
     "output_type": "execute_result"
    }
   ],
   "source": [
    "by_model = lexus_info.groupby('Model').agg({'Volume':['mean','median','min','max','count'],'Price':['mean','median','min','max','count']})\n",
    "by_model"
   ]
  },
  {
   "cell_type": "code",
   "execution_count": 33,
   "metadata": {},
   "outputs": [
    {
     "data": {
      "text/html": [
       "<div>\n",
       "<style scoped>\n",
       "    .dataframe tbody tr th:only-of-type {\n",
       "        vertical-align: middle;\n",
       "    }\n",
       "\n",
       "    .dataframe tbody tr th {\n",
       "        vertical-align: top;\n",
       "    }\n",
       "\n",
       "    .dataframe thead th {\n",
       "        text-align: right;\n",
       "    }\n",
       "</style>\n",
       "<table border=\"1\" class=\"dataframe\">\n",
       "  <thead>\n",
       "    <tr style=\"text-align: right;\">\n",
       "      <th></th>\n",
       "      <th>Unnamed: 0</th>\n",
       "      <th>description</th>\n",
       "      <th>url</th>\n",
       "      <th>Model</th>\n",
       "      <th>Year</th>\n",
       "      <th>Volume</th>\n",
       "      <th>Run</th>\n",
       "      <th>Price</th>\n",
       "    </tr>\n",
       "  </thead>\n",
       "  <tbody>\n",
       "    <tr>\n",
       "      <th>215</th>\n",
       "      <td>5</td>\n",
       "      <td>Продаю Lexus UX 250h Premium+ (177hp) в отличн...</td>\n",
       "      <td>https://ss.com/msg/en/transport/cars/lexus/ux/...</td>\n",
       "      <td>UX</td>\n",
       "      <td>2020</td>\n",
       "      <td>NaN</td>\n",
       "      <td>21 thd.</td>\n",
       "      <td>35700.0</td>\n",
       "    </tr>\n",
       "    <tr>\n",
       "      <th>216</th>\n",
       "      <td>6</td>\n",
       "      <td>Lexus CT 200H, Hybrid. Оригинальный пробег . Д...</td>\n",
       "      <td>https://ss.com/msg/en/transport/cars/lexus/ct/...</td>\n",
       "      <td>CT</td>\n",
       "      <td>2012</td>\n",
       "      <td>NaN</td>\n",
       "      <td>97 thd.</td>\n",
       "      <td>13200.0</td>\n",
       "    </tr>\n",
       "    <tr>\n",
       "      <th>217</th>\n",
       "      <td>7</td>\n",
       "      <td>Lexus CT 200h, hibrīda dzinējs, balta perlamut...</td>\n",
       "      <td>https://ss.com/msg/en/transport/cars/lexus/ct/...</td>\n",
       "      <td>CT</td>\n",
       "      <td>2011</td>\n",
       "      <td>NaN</td>\n",
       "      <td>254 thd.</td>\n",
       "      <td>10990.0</td>\n",
       "    </tr>\n",
       "    <tr>\n",
       "      <th>218</th>\n",
       "      <td>8</td>\n",
       "      <td>Kabriolets ar dzelzs jumtu. Motors 4.3 L 3Uz-F...</td>\n",
       "      <td>https://ss.com/msg/en/transport/cars/lexus/sc/...</td>\n",
       "      <td>SC</td>\n",
       "      <td>2002</td>\n",
       "      <td>4.3</td>\n",
       "      <td>230 thd.</td>\n",
       "      <td>12500.0</td>\n",
       "    </tr>\n",
       "    <tr>\n",
       "      <th>219</th>\n",
       "      <td>9</td>\n",
       "      <td>Pārdodu Lexus ES 300h Executive Plus komplektā...</td>\n",
       "      <td>https://ss.com/msg/en/transport/cars/lexus/es/...</td>\n",
       "      <td>ES</td>\n",
       "      <td>2019</td>\n",
       "      <td>NaN</td>\n",
       "      <td>37 thd.</td>\n",
       "      <td>45000.0</td>\n",
       "    </tr>\n",
       "    <tr>\n",
       "      <th>220</th>\n",
       "      <td>10</td>\n",
       "      <td>F-sport 3.5i 190kw. 4x4 automats labā tehniskā...</td>\n",
       "      <td>https://ss.com/msg/en/transport/cars/lexus/rc/...</td>\n",
       "      <td>RC</td>\n",
       "      <td>2016</td>\n",
       "      <td>3.5</td>\n",
       "      <td>17 thd.</td>\n",
       "      <td>25500.0</td>\n",
       "    </tr>\n",
       "    <tr>\n",
       "      <th>221</th>\n",
       "      <td>11</td>\n",
       "      <td>Lexus LX 570 V8 A/t. 2012. gada. 5.7l benzīns,...</td>\n",
       "      <td>https://ss.com/msg/en/transport/cars/lexus/lx/...</td>\n",
       "      <td>LX</td>\n",
       "      <td>2012</td>\n",
       "      <td>5.7</td>\n",
       "      <td>182 thd.</td>\n",
       "      <td>49900.0</td>\n",
       "    </tr>\n",
       "    <tr>\n",
       "      <th>222</th>\n",
       "      <td>12</td>\n",
       "      <td>Редкий Lexus Es300 3.0 бенз/газ. Полный аналог...</td>\n",
       "      <td>https://ss.com/msg/en/transport/cars/lexus/es/...</td>\n",
       "      <td>ES</td>\n",
       "      <td>1998</td>\n",
       "      <td>3.0</td>\n",
       "      <td>116 thd.</td>\n",
       "      <td>3250.0</td>\n",
       "    </tr>\n",
       "    <tr>\n",
       "      <th>223</th>\n",
       "      <td>13</td>\n",
       "      <td>Pārdod kompaktu un ekonomisku hibrīdauto, ceļa...</td>\n",
       "      <td>https://ss.com/msg/en/transport/cars/lexus/ct/...</td>\n",
       "      <td>CT</td>\n",
       "      <td>2011</td>\n",
       "      <td>NaN</td>\n",
       "      <td>171 thd.</td>\n",
       "      <td>10800.0</td>\n",
       "    </tr>\n",
       "    <tr>\n",
       "      <th>224</th>\n",
       "      <td>14</td>\n",
       "      <td>Lexus Es300H Limited Edition 2021.g. 2, 5 Hybr...</td>\n",
       "      <td>https://ss.com/msg/en/transport/cars/lexus/es/...</td>\n",
       "      <td>ES</td>\n",
       "      <td>2021</td>\n",
       "      <td>NaN</td>\n",
       "      <td>59 thd.</td>\n",
       "      <td>47500.0</td>\n",
       "    </tr>\n",
       "  </tbody>\n",
       "</table>\n",
       "</div>"
      ],
      "text/plain": [
       "     Unnamed: 0                                        description  \\\n",
       "215           5  Продаю Lexus UX 250h Premium+ (177hp) в отличн...   \n",
       "216           6  Lexus CT 200H, Hybrid. Оригинальный пробег . Д...   \n",
       "217           7  Lexus CT 200h, hibrīda dzinējs, balta perlamut...   \n",
       "218           8  Kabriolets ar dzelzs jumtu. Motors 4.3 L 3Uz-F...   \n",
       "219           9  Pārdodu Lexus ES 300h Executive Plus komplektā...   \n",
       "220          10  F-sport 3.5i 190kw. 4x4 automats labā tehniskā...   \n",
       "221          11  Lexus LX 570 V8 A/t. 2012. gada. 5.7l benzīns,...   \n",
       "222          12  Редкий Lexus Es300 3.0 бенз/газ. Полный аналог...   \n",
       "223          13  Pārdod kompaktu un ekonomisku hibrīdauto, ceļa...   \n",
       "224          14  Lexus Es300H Limited Edition 2021.g. 2, 5 Hybr...   \n",
       "\n",
       "                                                   url Model  Year  Volume  \\\n",
       "215  https://ss.com/msg/en/transport/cars/lexus/ux/...    UX  2020     NaN   \n",
       "216  https://ss.com/msg/en/transport/cars/lexus/ct/...    CT  2012     NaN   \n",
       "217  https://ss.com/msg/en/transport/cars/lexus/ct/...    CT  2011     NaN   \n",
       "218  https://ss.com/msg/en/transport/cars/lexus/sc/...    SC  2002     4.3   \n",
       "219  https://ss.com/msg/en/transport/cars/lexus/es/...    ES  2019     NaN   \n",
       "220  https://ss.com/msg/en/transport/cars/lexus/rc/...    RC  2016     3.5   \n",
       "221  https://ss.com/msg/en/transport/cars/lexus/lx/...    LX  2012     5.7   \n",
       "222  https://ss.com/msg/en/transport/cars/lexus/es/...    ES  1998     3.0   \n",
       "223  https://ss.com/msg/en/transport/cars/lexus/ct/...    CT  2011     NaN   \n",
       "224  https://ss.com/msg/en/transport/cars/lexus/es/...    ES  2021     NaN   \n",
       "\n",
       "          Run    Price  \n",
       "215   21 thd.  35700.0  \n",
       "216   97 thd.  13200.0  \n",
       "217  254 thd.  10990.0  \n",
       "218  230 thd.  12500.0  \n",
       "219   37 thd.  45000.0  \n",
       "220   17 thd.  25500.0  \n",
       "221  182 thd.  49900.0  \n",
       "222  116 thd.   3250.0  \n",
       "223  171 thd.  10800.0  \n",
       "224   59 thd.  47500.0  "
      ]
     },
     "execution_count": 33,
     "metadata": {},
     "output_type": "execute_result"
    }
   ],
   "source": [
    "lexus_info.tail(10)"
   ]
  },
  {
   "cell_type": "code",
   "execution_count": 34,
   "metadata": {},
   "outputs": [
    {
     "data": {
      "text/html": [
       "<div>\n",
       "<style scoped>\n",
       "    .dataframe tbody tr th:only-of-type {\n",
       "        vertical-align: middle;\n",
       "    }\n",
       "\n",
       "    .dataframe tbody tr th {\n",
       "        vertical-align: top;\n",
       "    }\n",
       "\n",
       "    .dataframe thead th {\n",
       "        text-align: right;\n",
       "    }\n",
       "</style>\n",
       "<table border=\"1\" class=\"dataframe\">\n",
       "  <thead>\n",
       "    <tr style=\"text-align: right;\">\n",
       "      <th></th>\n",
       "      <th>count</th>\n",
       "      <th>min</th>\n",
       "      <th>max</th>\n",
       "      <th>mean</th>\n",
       "    </tr>\n",
       "    <tr>\n",
       "      <th>Model</th>\n",
       "      <th></th>\n",
       "      <th></th>\n",
       "      <th></th>\n",
       "      <th></th>\n",
       "    </tr>\n",
       "  </thead>\n",
       "  <tbody>\n",
       "    <tr>\n",
       "      <th>120</th>\n",
       "      <td>0</td>\n",
       "      <td>NaN</td>\n",
       "      <td>NaN</td>\n",
       "      <td>NaN</td>\n",
       "    </tr>\n",
       "    <tr>\n",
       "      <th>Accord</th>\n",
       "      <td>0</td>\n",
       "      <td>NaN</td>\n",
       "      <td>NaN</td>\n",
       "      <td>NaN</td>\n",
       "    </tr>\n",
       "    <tr>\n",
       "      <th>Another</th>\n",
       "      <td>0</td>\n",
       "      <td>NaN</td>\n",
       "      <td>NaN</td>\n",
       "      <td>NaN</td>\n",
       "    </tr>\n",
       "    <tr>\n",
       "      <th>CT</th>\n",
       "      <td>14</td>\n",
       "      <td>9850.0</td>\n",
       "      <td>16999.0</td>\n",
       "      <td>12755.642857</td>\n",
       "    </tr>\n",
       "    <tr>\n",
       "      <th>Civic</th>\n",
       "      <td>0</td>\n",
       "      <td>NaN</td>\n",
       "      <td>NaN</td>\n",
       "      <td>NaN</td>\n",
       "    </tr>\n",
       "    <tr>\n",
       "      <th>ES</th>\n",
       "      <td>4</td>\n",
       "      <td>3250.0</td>\n",
       "      <td>47500.0</td>\n",
       "      <td>35162.500000</td>\n",
       "    </tr>\n",
       "    <tr>\n",
       "      <th>GS</th>\n",
       "      <td>34</td>\n",
       "      <td>2300.0</td>\n",
       "      <td>34000.0</td>\n",
       "      <td>11917.352941</td>\n",
       "    </tr>\n",
       "    <tr>\n",
       "      <th>GX</th>\n",
       "      <td>2</td>\n",
       "      <td>14750.0</td>\n",
       "      <td>29500.0</td>\n",
       "      <td>22125.000000</td>\n",
       "    </tr>\n",
       "    <tr>\n",
       "      <th>Highlander</th>\n",
       "      <td>0</td>\n",
       "      <td>NaN</td>\n",
       "      <td>NaN</td>\n",
       "      <td>NaN</td>\n",
       "    </tr>\n",
       "    <tr>\n",
       "      <th>IS</th>\n",
       "      <td>52</td>\n",
       "      <td>1950.0</td>\n",
       "      <td>22500.0</td>\n",
       "      <td>6785.576923</td>\n",
       "    </tr>\n",
       "    <tr>\n",
       "      <th>LS</th>\n",
       "      <td>6</td>\n",
       "      <td>4000.0</td>\n",
       "      <td>18900.0</td>\n",
       "      <td>10331.666667</td>\n",
       "    </tr>\n",
       "    <tr>\n",
       "      <th>LX</th>\n",
       "      <td>1</td>\n",
       "      <td>49900.0</td>\n",
       "      <td>49900.0</td>\n",
       "      <td>49900.000000</td>\n",
       "    </tr>\n",
       "    <tr>\n",
       "      <th>NX</th>\n",
       "      <td>21</td>\n",
       "      <td>21500.0</td>\n",
       "      <td>47000.0</td>\n",
       "      <td>33106.666667</td>\n",
       "    </tr>\n",
       "    <tr>\n",
       "      <th>RC</th>\n",
       "      <td>1</td>\n",
       "      <td>25500.0</td>\n",
       "      <td>25500.0</td>\n",
       "      <td>25500.000000</td>\n",
       "    </tr>\n",
       "    <tr>\n",
       "      <th>RX</th>\n",
       "      <td>49</td>\n",
       "      <td>3800.0</td>\n",
       "      <td>47900.0</td>\n",
       "      <td>16559.142857</td>\n",
       "    </tr>\n",
       "    <tr>\n",
       "      <th>SC</th>\n",
       "      <td>1</td>\n",
       "      <td>12500.0</td>\n",
       "      <td>12500.0</td>\n",
       "      <td>12500.000000</td>\n",
       "    </tr>\n",
       "    <tr>\n",
       "      <th>UX</th>\n",
       "      <td>4</td>\n",
       "      <td>35700.0</td>\n",
       "      <td>49990.0</td>\n",
       "      <td>41347.500000</td>\n",
       "    </tr>\n",
       "  </tbody>\n",
       "</table>\n",
       "</div>"
      ],
      "text/plain": [
       "            count      min      max          mean\n",
       "Model                                            \n",
       "120             0      NaN      NaN           NaN\n",
       "Accord          0      NaN      NaN           NaN\n",
       "Another         0      NaN      NaN           NaN\n",
       "CT             14   9850.0  16999.0  12755.642857\n",
       "Civic           0      NaN      NaN           NaN\n",
       "ES              4   3250.0  47500.0  35162.500000\n",
       "GS             34   2300.0  34000.0  11917.352941\n",
       "GX              2  14750.0  29500.0  22125.000000\n",
       "Highlander      0      NaN      NaN           NaN\n",
       "IS             52   1950.0  22500.0   6785.576923\n",
       "LS              6   4000.0  18900.0  10331.666667\n",
       "LX              1  49900.0  49900.0  49900.000000\n",
       "NX             21  21500.0  47000.0  33106.666667\n",
       "RC              1  25500.0  25500.0  25500.000000\n",
       "RX             49   3800.0  47900.0  16559.142857\n",
       "SC              1  12500.0  12500.0  12500.000000\n",
       "UX              4  35700.0  49990.0  41347.500000"
      ]
     },
     "execution_count": 34,
     "metadata": {},
     "output_type": "execute_result"
    }
   ],
   "source": [
    "grouped_by_model = lexus_info.groupby(by=\"Model\")['Price'].agg([\"count\", \"min\", \"max\", \"mean\", ])\n",
    "grouped_by_model"
   ]
  },
  {
   "cell_type": "code",
   "execution_count": 35,
   "metadata": {},
   "outputs": [
    {
     "data": {
      "text/plain": [
       "array([[<AxesSubplot: title={'center': 'count'}>,\n",
       "        <AxesSubplot: title={'center': 'min'}>],\n",
       "       [<AxesSubplot: title={'center': 'max'}>,\n",
       "        <AxesSubplot: title={'center': 'mean'}>]], dtype=object)"
      ]
     },
     "execution_count": 35,
     "metadata": {},
     "output_type": "execute_result"
    },
    {
     "data": {
      "image/png": "[encoded data removed]",
      "text/plain": [
       "<Figure size 640x480 with 4 Axes>"
      ]
     },
     "metadata": {},
     "output_type": "display_data"
    }
   ],
   "source": [
    "grouped_by_model.hist()"
   ]
  },
  {
   "cell_type": "code",
   "execution_count": 36,
   "metadata": {},
   "outputs": [
    {
     "data": {
      "text/plain": [
       "<AxesSubplot: xlabel='Model'>"
      ]
     },
     "execution_count": 36,
     "metadata": {},
     "output_type": "execute_result"
    },
    {
     "data": {
      "image/png": "[encoded data removed]",
      "text/plain": [
       "<Figure size 640x480 with 1 Axes>"
      ]
     },
     "metadata": {},
     "output_type": "display_data"
    }
   ],
   "source": [
    "by_model.plot()"
   ]
  }
 ],
 "metadata": {
  "kernelspec": {
   "display_name": "Python 3.8.8 ('myenv': venv)",
   "language": "python",
   "name": "python3"
  },
  "language_info": {
   "codemirror_mode": {
    "name": "ipython",
    "version": 3
   },
   "file_extension": ".py",
   "mimetype": "text/x-python",
   "name": "python",
   "nbconvert_exporter": "python",
   "pygments_lexer": "ipython3",
   "version": "3.8.8"
  },
  "orig_nbformat": 4,
  "vscode": {
   "interpreter": {
    "hash": "f4399fc022079f002860625cc5707f51dba9801f67dbcb5cf226f7f6d65ac101"
   }
  }
 },
 "nbformat": 4,
 "nbformat_minor": 2
}
