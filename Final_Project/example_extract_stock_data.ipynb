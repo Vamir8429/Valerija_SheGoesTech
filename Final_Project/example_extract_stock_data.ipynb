{
 "cells": [
  {
   "cell_type": "code",
   "execution_count": 1,
   "metadata": {},
   "outputs": [],
   "source": [
    "import yfinance as yf\n",
    "\n",
    "msft = yf.Ticker(\"MSFT\")\n",
    "msft_hist = msft.history(period=\"max\")"
   ]
  },
  {
   "cell_type": "code",
   "execution_count": 2,
   "metadata": {},
   "outputs": [],
   "source": [
    "import os\n",
    "import pandas as pd\n",
    "\n",
    "DATA_PATH = \"msft_data.json\"\n",
    "\n",
    "if os.path.exists(DATA_PATH):\n",
    "    # Read from file if we've already downloaded the data.\n",
    "    with open(DATA_PATH) as f:\n",
    "        msft_hist = pd.read_json(DATA_PATH)\n",
    "else:\n",
    "    msft = yf.Ticker(\"MSFT\")\n",
    "    msft_hist = msft.history(period=\"max\")\n",
    "\n",
    "    # Save file to json in case we need it later.  This prevents us from having to re-download it every time.\n",
    "    msft_hist.to_json(DATA_PATH)"
   ]
  }
 ],
 "metadata": {
  "kernelspec": {
   "display_name": "Python 3.8.8 ('myenv': venv)",
   "language": "python",
   "name": "python3"
  },
  "language_info": {
   "codemirror_mode": {
    "name": "ipython",
    "version": 3
   },
   "file_extension": ".py",
   "mimetype": "text/x-python",
   "name": "python",
   "nbconvert_exporter": "python",
   "pygments_lexer": "ipython3",
   "version": "3.8.8"
  },
  "orig_nbformat": 4,
  "vscode": {
   "interpreter": {
    "hash": "f4399fc022079f002860625cc5707f51dba9801f67dbcb5cf226f7f6d65ac101"
   }
  }
 },
 "nbformat": 4,
 "nbformat_minor": 2
}
