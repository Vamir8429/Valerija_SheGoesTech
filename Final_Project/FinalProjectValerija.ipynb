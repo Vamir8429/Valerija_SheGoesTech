{
 "cells": [
  {
   "cell_type": "markdown",
   "metadata": {},
   "source": [
    "# European Economic indicators data analysis and forecasting using Machine Learning\n",
    "\n",
    "* SheGoesTech - Final project \n",
    "* 2022 November \n",
    "* by Valerija Miribian"
   ]
  },
  {
   "cell_type": "markdown",
   "metadata": {},
   "source": [
    "In this workbook we will main European macroeconomic indicators:\n",
    "\n",
    "* inflation\n",
    "* interest \n",
    "* GDP growth \n",
    "* unemployment rate\n",
    "* retail trade change\n",
    "* 10 years Euro yeld curve\n",
    "\n",
    "\n",
    "TODO: Add source where data was collected "
   ]
  }
 ],
 "metadata": {
  "kernelspec": {
   "display_name": "Python 3.8.8 ('myenv': venv)",
   "language": "python",
   "name": "python3"
  },
  "language_info": {
   "name": "python",
   "version": "3.8.8"
  },
  "orig_nbformat": 4,
  "vscode": {
   "interpreter": {
    "hash": "f4399fc022079f002860625cc5707f51dba9801f67dbcb5cf226f7f6d65ac101"
   }
  }
 },
 "nbformat": 4,
 "nbformat_minor": 2
}
