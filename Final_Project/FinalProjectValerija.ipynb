{
 "cells": [
  {
   "cell_type": "markdown",
   "metadata": {},
   "source": [
    "# Apple Inc. (AAPL) financial data analysis and stock price forecasting\n",
    "\n",
    "* SheGoesTech - Final project \n",
    "* 2022 November \n",
    "* by Valerija Miribian"
   ]
  },
  {
   "cell_type": "markdown",
   "metadata": {},
   "source": [
    "In this workbook we will analyze AAPL performance over 15 years in terms of: \n",
    "\n",
    "1. Income Statement:\n",
    "* Total Revenue \n",
    "* Operating Income \n",
    "* Total Expenses \n",
    "* Net Income\n",
    "\n",
    "2. Financial Ratios:\n",
    "* Current Ratio \n",
    "* Gross Margin \n",
    "* Operating Margin \n",
    "* Profit Margin \n",
    "* After tax ROE \n",
    "\n",
    "3. Stock price\n",
    "\n",
    "TODO: Add source where data was collected "
   ]
  },
  {
   "cell_type": "markdown",
   "metadata": {},
   "source": [
    "For stock price analysis and forecasting we will use the following data: \n",
    "\n",
    "* EPS (Earnings per share)\n",
    "* Total Revenue\n",
    "* Net income\n",
    "* PE Ratio (Price to Earnings)\n",
    "\n",
    "To limit the analysis we are making assumption that the above four measures are the only ones, which impacts company's stock price. \\\n",
    "\n",
    "TODO: Numerous improvements to the research for more real life application are required - something to consider after end of course."
   ]
  }
 ],
 "metadata": {
  "language_info": {
   "name": "python"
  },
  "orig_nbformat": 4
 },
 "nbformat": 4,
 "nbformat_minor": 2
}
