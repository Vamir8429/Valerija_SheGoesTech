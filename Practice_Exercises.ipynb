{
 "cells": [
  {
   "cell_type": "markdown",
   "metadata": {},
   "source": [
    "# Day 1 - Introduction"
   ]
  },
  {
   "cell_type": "code",
   "execution_count": 1,
   "metadata": {},
   "outputs": [
    {
     "name": "stdout",
     "output_type": "stream",
     "text": [
      "Valerija Valerija Valerija Valerija Valerija \n"
     ]
    }
   ],
   "source": [
    "# Exercise 1. \n",
    "# Print your name 5 times \n",
    "print(\"Valerija \" * 5)"
   ]
  },
  {
   "cell_type": "code",
   "execution_count": 2,
   "metadata": {},
   "outputs": [
    {
     "name": "stdout",
     "output_type": "stream",
     "text": [
      "Bananananana\n"
     ]
    }
   ],
   "source": [
    "#Exercise 2. \n",
    "# print Bananananana using Ba once and na 5 times\n",
    "print(\"Ba\"+(\"na\"*5))"
   ]
  },
  {
   "cell_type": "code",
   "execution_count": 7,
   "metadata": {},
   "outputs": [
    {
     "name": "stdout",
     "output_type": "stream",
     "text": [
      "31536000\n"
     ]
    }
   ],
   "source": [
    "# Exerise 3 \n",
    "# Print the number of seconds in a year calculated from months, days, minutes, seconds\n",
    "\n",
    "print(365*24*60*60)"
   ]
  },
  {
   "cell_type": "code",
   "execution_count": 9,
   "metadata": {},
   "outputs": [
    {
     "name": "stdout",
     "output_type": "stream",
     "text": [
      "10000000000000000000000000000000000000000000000000000000000000000000000000000000000000000000000000000\n"
     ]
    }
   ],
   "source": [
    "# Exercise 4 \n",
    "# How much a googol is that is 10 to the power of the 100th \n",
    "\n",
    "googol = 10**100\n",
    "print(googol)"
   ]
  },
  {
   "cell_type": "code",
   "execution_count": 10,
   "metadata": {},
   "outputs": [
    {
     "name": "stdout",
     "output_type": "stream",
     "text": [
      "2012.1964718355514\n"
     ]
    }
   ],
   "source": [
    "# Exercise 5\n",
    "# How much will your 1000 Euro investment be worth after 12 years of 6% yearly interest? \n",
    "\n",
    "my_investment = 1000 * (1.06 ** 12)\n",
    "print(my_investment)"
   ]
  },
  {
   "cell_type": "markdown",
   "metadata": {},
   "source": [
    "# Day 2 - Data Types"
   ]
  },
  {
   "cell_type": "code",
   "execution_count": 11,
   "metadata": {},
   "outputs": [
    {
     "name": "stdout",
     "output_type": "stream",
     "text": [
      "Valerija\n"
     ]
    }
   ],
   "source": [
    "# Exercise 1 \n",
    "# Write a program that asks for and saves a username \n",
    "# Ask a question about the user age, using the username in the question \n",
    "# Shows in how many years the user will be 100 years old \n",
    "\n",
    "# BONUS: then you will need two additional lines: \n",
    "# import datetime \n",
    "# currentYear = datetime.datetime.now().year\n",
    "# Let the program also show the year when the user will be 100 years old \n",
    "# It could use a variable with the current year automatically \n",
    "\n",
    "username = input(\"What is your name? \")\n",
    "print(username)"
   ]
  },
  {
   "cell_type": "code",
   "execution_count": 12,
   "metadata": {},
   "outputs": [
    {
     "name": "stdout",
     "output_type": "stream",
     "text": [
      "27\n"
     ]
    }
   ],
   "source": [
    "age = int(input(f\"What is your age, {username}? \"))\n",
    "print(age)"
   ]
  },
  {
   "cell_type": "code",
   "execution_count": 13,
   "metadata": {},
   "outputs": [
    {
     "name": "stdout",
     "output_type": "stream",
     "text": [
      "Valerija will turn 100 in 73 years.\n"
     ]
    }
   ],
   "source": [
    "age_check = 100 - age\n",
    "print(f\"{username} will turn 100 in {age_check} years.\")"
   ]
  },
  {
   "cell_type": "code",
   "execution_count": 14,
   "metadata": {},
   "outputs": [
    {
     "name": "stdout",
     "output_type": "stream",
     "text": [
      "Valerija will turn 100 in 2095.\n"
     ]
    }
   ],
   "source": [
    "import datetime\n",
    "currentYear = datetime.datetime.now().year\n",
    "\n",
    "year_check = currentYear + age_check\n",
    "print(f\"{username} will turn 100 in {year_check}.\")"
   ]
  },
  {
   "cell_type": "code",
   "execution_count": 15,
   "metadata": {},
   "outputs": [
    {
     "name": "stdout",
     "output_type": "stream",
     "text": [
      "45\n"
     ]
    }
   ],
   "source": [
    "# Exercise 3 \n",
    "# Temperature conversion \n",
    "\n",
    "# Write a program that asks user for temperature in Celsius and prints out the same temperature in Farenheit \n",
    "# formula is: farenheit = 32 + celsius * (9/5) \n",
    "# PS. Remember about data type conversion, also consider precision \n",
    "\n",
    "current_celsius = int(input(\"What is current temperature in Vilnius? \"))\n",
    "current_farenheit = 32 + (current_celsius * (9/5))\n",
    "\n",
    "print(round(current_farenheit))"
   ]
  },
  {
   "cell_type": "markdown",
   "metadata": {},
   "source": [
    "# Day 3 - Boolean, Logic operators"
   ]
  },
  {
   "cell_type": "code",
   "execution_count": 19,
   "metadata": {},
   "outputs": [
    {
     "name": "stdout",
     "output_type": "stream",
     "text": [
      "Possible fever.. :(\n"
     ]
    }
   ],
   "source": [
    "# Exercise 1 - Health check \n",
    "# Ask user for their temperature\n",
    "# If the user enters below 35, then output \"not too cold\"\n",
    "# if 35 to 37 (inclusive) - output \"All righ\"\n",
    "# If the temperature over 37, then output - \"possible fever\" \n",
    "\n",
    "user_temperature = float(input(\"What is your body temperature? \"))\n",
    "\n",
    "if user_temperature < 35: \n",
    "    print(\"Not, too cold..\")\n",
    "elif user_temperature > 37: \n",
    "    print(\"Possible fever.. :(\")\n",
    "else: \n",
    "    print(\"All right\")"
   ]
  },
  {
   "cell_type": "code",
   "execution_count": 21,
   "metadata": {},
   "outputs": [
    {
     "name": "stdout",
     "output_type": "stream",
     "text": [
      "Unfortunately, you are not eligible to the bonus yet\n"
     ]
    }
   ],
   "source": [
    "# Exercise 2 - Xmas Bonus \n",
    "\n",
    "# The company has promised a Christmas bonus in the amount of 15% o the monthly salary for EVERY year of service over 2 years. \n",
    "# Task. Ask the user for the amount of monthly salary and the number of years worked. \n",
    "\n",
    "# Calculate the bonus \n",
    "# Example 1: 5 years of experience, 1000 Euro salary, the bonus will be 450 Euro \n",
    "# Example 2: 1.5 years of experience, 1500 Euro salary, no bonus (0)\n",
    "\n",
    "user_years_worked = float(input(\"How many years you are working in the current company?\"))\n",
    "user_salary = int(input(\"What is your current salary?\"))\n",
    "bonus_pool = 0.15\n",
    "\n",
    "if user_years_worked >= 2: \n",
    "    user_bonus = (user_salary * bonus_pool) * (user_years_worked - 2)\n",
    "    print(user_bonus)\n",
    "else:\n",
    "    print(\"Unfortunately, you are not eligible to the bonus yet\")  "
   ]
  },
  {
   "cell_type": "markdown",
   "metadata": {},
   "source": [
    "# Day 4 - Loops "
   ]
  },
  {
   "cell_type": "code",
   "execution_count": 22,
   "metadata": {},
   "outputs": [
    {
     "name": "stdout",
     "output_type": "stream",
     "text": [
      "1,2,3,4,Fizz,6,Buzz,8,9,Fizz,11,12,13,Buzz,Fizz,16,17,18,19,Fizz,Buzz,22,23,24,Fizz,26,27,Buzz,29,Fizz,31,32,33,34,Fizz,36,37,38,39,Fizz,41,Buzz,43,44,Fizz,46,47,48,Buzz,Fizz,51,52,53,54,Fizz,Buzz,57,58,59,Fizz,61,62,Buzz,64,Fizz,66,67,68,69,Fizz,71,72,73,74,Fizz,76,Buzz,78,79,Fizz,81,82,83,Buzz,Fizz,86,87,88,89,Fizz,Buzz,92,93,94,Fizz,96,97,Buzz,99,Fizz,"
     ]
    }
   ],
   "source": [
    "# Exercise 1 - FizzBuzz \n",
    "\n",
    "# Print a string 1,2,3,4, Fizz, 6, Buzz, 8, .... 34, FizzBuzz, 36, ... to 97, Buzz, 99, Fizz \n",
    "\n",
    "# So if number divided by 5 then Fizz, if divided by 7 then Buzz\n",
    "# If divided by 5 AND 7 then FizzBuzz, otherwise the same number\n",
    "\n",
    "for n in range(1,101): #from 1 to 100\n",
    "    if n % 5 == 0:\n",
    "        print(\"Fizz\", end=\",\")\n",
    "    elif n % 7 == 0:\n",
    "        print(\"Buzz\", end=\",\")\n",
    "    elif n % 5 == 0 and n % 7 == 0:\n",
    "        print(\"FizzBuzz\", end=\",\")\n",
    "    else:\n",
    "        print(n, end=\",\")"
   ]
  },
  {
   "cell_type": "code",
   "execution_count": 25,
   "metadata": {},
   "outputs": [
    {
     "name": "stdout",
     "output_type": "stream",
     "text": [
      "     *\n",
      "    ***\n",
      "   *****\n",
      "  *******\n",
      " *********\n",
      "***********\n"
     ]
    }
   ],
   "source": [
    "# Exercise 2 - Christmas tree \n",
    "\n",
    "# Ask user to enter the height of the tree \n",
    "# Then print the tree\n",
    "\n",
    "user_height = int(input(\"What is the height of the Christmas tree?\"))\n",
    "c_symbol = \"*\"\n",
    "\n",
    "for i in range(user_height):\n",
    "    print(' ' * (user_height - i - 1) + c_symbol * (2 * i + 1))"
   ]
  },
  {
   "cell_type": "code",
   "execution_count": 26,
   "metadata": {},
   "outputs": [
    {
     "name": "stdout",
     "output_type": "stream",
     "text": [
      "7 is a prime number\n"
     ]
    }
   ],
   "source": [
    "# Exercise 3 - Primes Check \n",
    "\n",
    "# A prime number is a number that divides without remainder only by itself and 1 \n",
    "\n",
    "# Hint: what numbers do we have to check? \n",
    "\n",
    "num=int(input(\"Please write a number:\"))\n",
    "not_prime = False\n",
    "if num > 1:\n",
    "    for i in range(2, num):\n",
    "        if num % i == 0:\n",
    "            not_prime = True\n",
    "            print(f\"{num} dividies by {i}, thus not a prime\")\n",
    "            break\n",
    "\n",
    "if not_prime:\n",
    "    print(num, \"is not a prime number\")\n",
    "else:\n",
    "    print(num, \"is a prime number\")"
   ]
  },
  {
   "cell_type": "markdown",
   "metadata": {},
   "source": [
    "# Day 5 - Strings "
   ]
  },
  {
   "cell_type": "code",
   "execution_count": 2,
   "metadata": {},
   "outputs": [
    {
     "name": "stdout",
     "output_type": "stream",
     "text": [
      "Valerija\n",
      "Ajirelav, a thorough mess is it not Valerija ? \n"
     ]
    }
   ],
   "source": [
    "# Exercise 1 - Confusion\n",
    "\n",
    "# The user enters a name \n",
    "# Your print user name in reverse (should begin with capital lettter)\n",
    "# then extra text: \"a thorough mess is it not\", then the first name of the user name, then ? \n",
    "# Example: \n",
    "# Enter Valdis -> Output: Sidlav, a thorough mess is it not V? \n",
    "\n",
    "user_name = str(input(\"Enter your name: \"))\n",
    "#print(user_name)\n",
    "user_name_rev = (user_name[::-1]).capitalize()\n",
    "print(f\"{user_name_rev}, a thorough mess is it not {user_name} ? \")"
   ]
  },
  {
   "cell_type": "code",
   "execution_count": 4,
   "metadata": {},
   "outputs": [
    {
     "name": "stdout",
     "output_type": "stream",
     "text": [
      "Weather is not bad today\n",
      "Weather is good today\n"
     ]
    }
   ],
   "source": [
    "# Exercise 3 - Text conversion \n",
    "\n",
    "# Write a program for text conversion \n",
    "# Save user input\n",
    "# Print the entered text without changes \n",
    "\n",
    "# Exception: if the words in the input are not ... bad,\n",
    "# then the outpout is not ... bad section must be changed to is good \n",
    "\n",
    "user_input = str(input(\"Please enter the text: \"))\n",
    "print(user_input)\n",
    "\n",
    "term_1 = \"not\"\n",
    "term_2 = \"bad\"\n",
    "\n",
    "find_1 = user_input.find(term_1)\n",
    "find_2 = user_input.find(term_2)\n",
    "replace = \"good\"\n",
    "\n",
    "if 0 < find_1 < find_2: \n",
    "    user_input = user_input.replace(user_input[find_1:(find_2 + len(term_2))], replace)\n",
    "elif 0 < find_2: \n",
    "    user_input = user_input.replace(user_input[find_2], replace)\n",
    "print(user_input)"
   ]
  },
  {
   "cell_type": "markdown",
   "metadata": {},
   "source": [
    "# Day 6 - Lists"
   ]
  },
  {
   "cell_type": "code",
   "execution_count": null,
   "metadata": {},
   "outputs": [],
   "source": [
    "# Exercise 1 - Average value \n",
    "\n",
    "# 1a. Average value\n",
    "\n",
    "# Write a program that prompts the user to enter numbers (float).\n",
    "# The program shows the average value of all entered numbers after each entry.\n",
    "\n",
    "# PS. 1a can do without a list\n",
    "\n",
    "# 1b. The program shows both the average value of the numbers and ALL the numbers entered\n",
    "# PS Exit the program  by entering \"q\"\n",
    "\n",
    "# 1c The program does not show all the numbers entered but only TOP3 and BOTTOM3 \n",
    "# and of course still average."
   ]
  },
  {
   "cell_type": "code",
   "execution_count": 13,
   "metadata": {},
   "outputs": [
    {
     "name": "stdout",
     "output_type": "stream",
     "text": [
      "Numbers you entered are: [5.0] , average is: 5.0\n",
      "Top 3 values you enetered are: [5.0]\n",
      "Bottom 3 values you entered are: [5.0]\n"
     ]
    },
    {
     "ename": "ValueError",
     "evalue": "could not convert string to float: 'q'",
     "output_type": "error",
     "traceback": [
      "\u001b[0;31m---------------------------------------------------------------------------\u001b[0m",
      "\u001b[0;31mValueError\u001b[0m                                Traceback (most recent call last)",
      "Cell \u001b[0;32mIn [13], line 4\u001b[0m\n\u001b[1;32m      1\u001b[0m list_numbers \u001b[39m=\u001b[39m []\n\u001b[1;32m      3\u001b[0m \u001b[39mwhile\u001b[39;00m \u001b[39mTrue\u001b[39;00m:\n\u001b[0;32m----> 4\u001b[0m     user_input \u001b[39m=\u001b[39m \u001b[39mfloat\u001b[39;49m(\u001b[39minput\u001b[39;49m(\n\u001b[1;32m      5\u001b[0m         \u001b[39m\"\u001b[39;49m\u001b[39mPlease enter numbers(separated by comma) or \u001b[39;49m\u001b[39m'\u001b[39;49m\u001b[39mq\u001b[39;49m\u001b[39m'\u001b[39;49m\u001b[39m to quit: \u001b[39;49m\u001b[39m\"\u001b[39;49m))\n\u001b[1;32m      6\u001b[0m     \u001b[39mif\u001b[39;00m user_input \u001b[39m==\u001b[39m \u001b[39m\"\u001b[39m\u001b[39mq\u001b[39m\u001b[39m\"\u001b[39m:\n\u001b[1;32m      7\u001b[0m         \u001b[39mprint\u001b[39m(\u001b[39m\"\u001b[39m\u001b[39mYou quit\u001b[39m\u001b[39m\"\u001b[39m)\n",
      "\u001b[0;31mValueError\u001b[0m: could not convert string to float: 'q'"
     ]
    }
   ],
   "source": [
    "list_numbers = []\n",
    "\n",
    "while True:\n",
    "    user_input = float(input(\n",
    "        \"Please enter numbers(separated by comma) or 'q' to quit: \"))\n",
    "    if user_input == \"q\":\n",
    "        print(\"You quit\")\n",
    "        break\n",
    "\n",
    "    else:\n",
    "        list_numbers.append(float(user_input))\n",
    "        sorted_number_list = sorted(list_numbers) \n",
    "        average_calculated = sum(list_numbers) / len(list_numbers)\n",
    "        print(\n",
    "            f\"Numbers you entered are: {list_numbers} , average is: {average_calculated}\")\n",
    "\n",
    "        print(f\"Top 3 values you enetered are: {sorted_number_list[-3:]}\")\n",
    "        print(f\"Bottom 3 values you entered are: {sorted_number_list[:3]}\")"
   ]
  },
  {
   "cell_type": "code",
   "execution_count": 15,
   "metadata": {},
   "outputs": [
    {
     "name": "stdout",
     "output_type": "stream",
     "text": [
      "4 -This is my beginning number\n",
      "9 -This is my end number\n",
      "4 cubed: 64\n",
      "5 cubed: 125\n",
      "6 cubed: 216\n",
      "7 cubed: 343\n",
      "8 cubed: 512\n",
      "9 cubed: 729\n",
      "[64, 125, 216, 343, 512, 729] -All cubes!\n"
     ]
    }
   ],
   "source": [
    "# Exercise 2. Cubes\n",
    "\n",
    "# The user enters the beginning (integer) and end number.\n",
    "# The output is the entered numbers and their cubes\n",
    "# For example: inputs 2 and 5 (two inputs)\n",
    "\n",
    "# Output\n",
    "\n",
    "# 2 cubed: 8\n",
    "# 3 cubed: 27\n",
    "# 4 cubed: 64\n",
    "# 5 cubed: 125\n",
    "\n",
    "# All cubes: [8,27,64,125]\n",
    "# PS could theoretically do without a list, but with a list it will be more convenient\n",
    "\n",
    "number_1 = int(input(\"Enter the beginning number: \"))\n",
    "number_2 = int(input(\"Enter the end number: \"))\n",
    "print(number_1, \"-This is my beginning number\")\n",
    "print(number_2, \"-This is my end number\")\n",
    "my_list = list(range(number_1,number_2+1))\n",
    "cubes = []\n",
    "for num in my_list:\n",
    "    cubes_single = num**3\n",
    "    cubes.append(cubes_single)\n",
    "    print(f\"{num} cubed: {cubes_single}\")\n",
    "print(cubes, \"-All cubes!\")"
   ]
  },
  {
   "cell_type": "code",
   "execution_count": 16,
   "metadata": {},
   "outputs": [
    {
     "name": "stdout",
     "output_type": "stream",
     "text": [
      "I love you -This is your entered text\n",
      "['you', 'love', 'I'] -This is your sentence in a reverse order\n",
      "you love I\n"
     ]
    }
   ],
   "source": [
    "# 3. Reversed words\n",
    "\n",
    "# The user enters a sentence.\n",
    "\n",
    "# We output all the words of the sentence in a reverse form. \n",
    "# - not the whole text reversed!!\n",
    "\n",
    "# Example\n",
    "\n",
    "# Alus kauss mans -> Sula ssuak snam\n",
    "# notice how each word was reversed separately\n",
    "\n",
    "# PS Split and join operations could be useful here.\n",
    "\n",
    "sentence = input(\"Enter the sentence: \") #I love you \n",
    "print(sentence, \"-This is your entered text\")\n",
    "words = sentence.split(\" \")\n",
    "print(words[::-1], \"-This is your sentence in a reverse order\")\n",
    "sentence_again = \" \".join(words[::-1])\n",
    "print(sentence_again)"
   ]
  },
  {
   "cell_type": "code",
   "execution_count": 23,
   "metadata": {},
   "outputs": [
    {
     "name": "stdout",
     "output_type": "stream",
     "text": [
      "[2, 3, 5, 7, 11, 13, 17, 19, 23, 29, 31, 37, 41, 43, 47, 53, 59, 61, 67, 71] -First 20 prime numbers\n"
     ]
    }
   ],
   "source": [
    "#Homework exercise: \n",
    "\n",
    "# Find and output the first 20 \n",
    "# (even better option to choose how many first primes we want) \n",
    "# prime numbers in the form of a list i.e. [2,3,5,7,11, ...\n",
    "# so remember we already know how to find a single prime number \n",
    "# from previous exercise\n",
    "# https://github.com/ValRCS/Python_SheGoesTech_22/blob/main/Day_4_Loops/day4_exercise_3.py\n",
    "\n",
    "\n",
    "n = 100\n",
    "primes = []\n",
    "for i in range(2, n+1):\n",
    "\tfor j in range(2, int(i ** 0.5) + 1):\n",
    " \t\tif i%j == 0:\n",
    " \t\t\tbreak\n",
    "\telse:\n",
    "\t\tprimes.append(i)\n",
    "###print(primes)\n",
    "print(primes[:20], \"-First 20 prime numbers\")"
   ]
  },
  {
   "cell_type": "markdown",
   "metadata": {},
   "source": [
    "# Day 7 - Functions"
   ]
  },
  {
   "cell_type": "code",
   "execution_count": 24,
   "metadata": {},
   "outputs": [
    {
     "name": "stdout",
     "output_type": "stream",
     "text": [
      "(2+ 3) * 4\n",
      "Result is 20\n"
     ]
    }
   ],
   "source": [
    "#1. The Big Result\n",
    "\n",
    "# Write an add_mult function that requires three parameters / arguments\n",
    "\n",
    "# Returns the result that is the sum of the 2 smallest arguments multiplied by the largest argument value.\n",
    "\n",
    "# PS Assume that numeric parameters will always be passed to the function, no need to check types\n",
    "\n",
    "# Various solutions are possible (you are allowed to use other data structures inside function such as list).\n",
    "\n",
    "# Example add_mult (2,5,4) -> will return (2 + 4) * 5 = 30\n",
    "\n",
    "# PSS function should return the result, not print it.\n",
    "\n",
    "#def add_mult(a,b,c):\n",
    "#    a,b,c = sorted([a,b,c])\n",
    "#    result = (f\"Equation: ({a} + {b}) * {c}\")\n",
    "#    return result\n",
    "\n",
    "def add_mult(a,b,c):\n",
    "    my_list = [a,b,c]\n",
    "    my_list.sort()\n",
    "    print(f\"({my_list[0]}+ {my_list[1]}) * {my_list[2]}\")\n",
    "    return (my_list[0] + my_list[1]) * my_list[2]\n",
    "\n",
    "result = add_mult(2,4,3)\n",
    "print(f\"Result is {result}\")"
   ]
  },
  {
   "cell_type": "code",
   "execution_count": 25,
   "metadata": {},
   "outputs": [
    {
     "name": "stdout",
     "output_type": "stream",
     "text": [
      "True\n"
     ]
    }
   ],
   "source": [
    "# 2. Palindrome\n",
    "\n",
    "# Write the function is_palindrome(text)\n",
    "\n",
    "# which returns a bool True or False depending on whether the \n",
    "# word or sentence is read equally from both sides.\n",
    "\n",
    "# PS You can start with a one-word solution from the beginning, \n",
    "# but the full solution will ignore whitespace and uppercase and lowercase letters.\n",
    "\n",
    "# is_palindrome (\"Alus ari i ra    sula\") -> True\n",
    "\n",
    "# is_palindrome(\"ABa\") -> True\n",
    "\n",
    "# is_palindrome(\"nava\") -> False\n",
    "\n",
    "def is_palindrome(text):\n",
    "    text = str(text)\n",
    "    text = text.replace(\" \", \"\").lower()\n",
    "    if text == text[::-1]:\n",
    "        print(\"True\")\n",
    "    else:\n",
    "        print(\"False\")\n",
    "\n",
    "text = \"Alus ari i ra    sula\"\n",
    "is_palindrome(text)\n"
   ]
  },
  {
   "cell_type": "code",
   "execution_count": 26,
   "metadata": {},
   "outputs": [
    {
     "name": "stdout",
     "output_type": "stream",
     "text": [
      "-1\n"
     ]
    }
   ],
   "source": [
    "# # 3. City Population\n",
    "\n",
    "\n",
    "# The city has a known population p0\n",
    "# A percentage of population perc is added each year\n",
    "# Every year a certain number of delta also arrive (or leave)\n",
    "# We need to know when (if at all) the city will reach a population of p\n",
    "\n",
    "# Write a function get_city_year (p0, perc, delta, target_p) \n",
    "# that returns the years (full) when target_p is reached.\n",
    "\n",
    "# If target_p cannot be reached, then we return -1\n",
    "\n",
    "# Example:\n",
    "# get_city_year(1000,2,50,1200) -> 3\n",
    "\n",
    "# 1000 + 1000 * 0.02 + 50 => 1070 after the 1st year\n",
    "# notice that we have an integer (whole number) percentage, \n",
    "# so the population after the 1st year is 1070, not 1070.4 or 1070.6\n",
    "\n",
    "# 1070 + 1070 * 0.02 + 50 => 1141 after the 2nd year\n",
    "\n",
    "# 1141 + 1141 * 0.02 + 50 => 1213 after the 3rd year \n",
    "\n",
    "# so the function here returns 3 and is done\n",
    "\n",
    "# PS. Note that we give perc as a percentage to be converted to a decimal number.\n",
    "\n",
    "\n",
    "\n",
    "# More test examples:\n",
    "\n",
    "# get_city_year(1000, 2, -50, 5000) -> -1 \n",
    "\n",
    "# get_city_year(1500, 5, 100, 5000) -> 15\n",
    "\n",
    "# get_city_year(1500000, 2.5, 10000, 2,000,000) -> 10\n",
    "\n",
    "# the trickiest case is something like this\n",
    "# get_city_year(1000, -3, 50, 2000) -> -1 is the correct answer but how to get there?\n",
    "\n",
    "\n",
    "def get_city_year(p0=0, perc=0, delta=0, p=0):\n",
    "    percents = perc * 0.01\n",
    "    new_pop = 0.0\n",
    "    years = 0\n",
    "    while new_pop < p:  # p is our target population\n",
    "        new_pop = p0 + (p0 * percents) + delta\n",
    "        if new_pop <= p0:\n",
    "            return -1\n",
    "            break\n",
    "        p0 = new_pop\n",
    "        years += 1\n",
    "\n",
    "    return years\n",
    "\n",
    "print(get_city_year(1000, 2, -50, 5000))"
   ]
  },
  {
   "cell_type": "markdown",
   "metadata": {},
   "source": [
    "# Day 8 - Dictionaries"
   ]
  },
  {
   "cell_type": "code",
   "execution_count": 27,
   "metadata": {},
   "outputs": [
    {
     "name": "stdout",
     "output_type": "stream",
     "text": [
      "{'H': 1, 'e': 2, 'l': 3, 'o': 2, 'v': 1}\n"
     ]
    }
   ],
   "source": [
    "# # 1. What's the frequency?\n",
    "\n",
    "# Write a function: get_char_count(text) that receives a \n",
    "# string and returns a dictionary with the number of single letter counts.\n",
    "\n",
    "# get_char_count(\"hubba bubba\") -> {'h': 1, 'u': 2, 'b': 5, 'a': 2, ' ': 1} \n",
    "\n",
    "# # dictionary sequence doesn't matter and the whole alphabet doesn't \n",
    "# have to be included\n",
    "\n",
    "#  There may also be a solution with Counter from standard Python \n",
    "# library but this is definitely not necessary, although it is very elegant smile\n",
    "\n",
    "#from collections import Counter\n",
    "\n",
    "def get_char_count(text):\n",
    "    my_output = {}\n",
    "    for i in text:\n",
    "        if i in my_output: \n",
    "            my_output[i] += 1\n",
    "        else:\n",
    "            my_output[i] = 1\n",
    "    return my_output\n",
    "\n",
    "print(get_char_count(\"Hellolove\"))\n",
    "\n",
    "#{'H': 1, 'e': 2, 'l': 3, 'o': 2, 'v': 1}"
   ]
  },
  {
   "cell_type": "code",
   "execution_count": 28,
   "metadata": {},
   "outputs": [
    {
     "name": "stdout",
     "output_type": "stream",
     "text": [
      "{'a': 10, 'b': 6, 'c': 10}\n"
     ]
    }
   ],
   "source": [
    "# 2. Dictionary editor\n",
    "\n",
    "\n",
    "\n",
    "# Write replace_dict_value(d, bad_val, good_val), \n",
    "# which returns a dictionary with changed values\n",
    "\n",
    "# The parameters of the function are the dictionary d \n",
    "# to be processed and the values ​​bad_val to be changed to good_val\n",
    "\n",
    "# clean_dict_value ({'a': 5, 'b': 6, 'c': 5}, 5, 10) -> \n",
    "# {'a': 10, 'b': 6, 'c': 10}, because 5 was the value to be replaced\n",
    "\n",
    "dictionary = {\n",
    "    'a': 5,\n",
    "    'b': 6,\n",
    "    'c': 5}\n",
    "def replace_dict_value(d, bad_val, good_val):\n",
    "    clean_dict = {}\n",
    "    for key in d:\n",
    "        if d[key] == bad_val:\n",
    "            clean_dict[key] = good_val\n",
    "        else:\n",
    "            clean_dict[key] = d[key]\n",
    "    print (clean_dict)\n",
    " \n",
    "replace_dict_value(dictionary, 5, 10)\n",
    "\n",
    "#{'a': 10, 'b': 6, 'c': 10}"
   ]
  },
  {
   "cell_type": "code",
   "execution_count": 29,
   "metadata": {},
   "outputs": [
    {
     "name": "stdout",
     "output_type": "stream",
     "text": [
      "{'m': 1, 'y': 2, 'e': 3}\n",
      "{'m': 1, 'e': 3}\n",
      "{'m': 1, 'y': 2, 'e': 3}\n",
      "{'m': 1, 'y': 2, 'e': 3}\n",
      "{'m': 1, 'e': 3}\n",
      "{'e': 3}\n",
      "{'m': 1, 'y': 2, 'e': 3}\n",
      "{'e': 3}\n"
     ]
    }
   ],
   "source": [
    "# # 3. Dictionary cleaner\n",
    "\n",
    "\n",
    "# 3a. Write clean_dict_value(d, bad_val), which returns \n",
    "# a cleaned dictionary without any keys with the value bad_val\n",
    "\n",
    "# The parameters of the function are the dictionary d \n",
    "# to be processed and the value bad_val to be disposed of together with its key.\n",
    "\n",
    "# Example:\n",
    "\n",
    "# clean_dict_value ({'a': 5, 'b': 6, 'c': 5}, 5) -> {'b': 6}, because 5 was a value for both a and c keys to get rid of.\n",
    "\n",
    "\n",
    "# 3b Write clean_dict_values ​​(d, v_list), which returns a cleaned dictionary\n",
    "\n",
    "# The parameters of the function are the dictionary d to be \n",
    "# processed and the list of values ​​v_list to get rid of.\n",
    "\n",
    "# clean_dict_values ​​({'a': 5, 'b': 6, 'c': 5, 'd':3}, [3,4,5]) -> \n",
    "# {'b': 6} because 3 and 5 were in the list of values to delete.\n",
    "\n",
    "\n",
    "# PS. Remember we can use del d['a'] only if the key 'a' exists.\n",
    "\n",
    "# !! When resizing a dictionary, we are not allowed to iterate at the same time!\n",
    "\n",
    "\n",
    "# There are two options: either walk through the copy \n",
    "# my_dict.copy.items(), or build a new dictionary. \n",
    "# Dictionary comprehension would be one option.\n",
    "\n",
    "#3A \n",
    "\n",
    "def clean_dict_value_3a(d, bad_val):\n",
    "    clean_dict = {k: v for k, v in d.items() if v != bad_val}\n",
    "    return clean_dict\n",
    "\n",
    "my_dict = {'m': 1, 'y': 2, 'e': 3}\n",
    "print(my_dict)\n",
    "print(clean_dict_value_3a(my_dict, 2))\n",
    "print(my_dict)\n",
    "new_dict = clean_dict_value_3a(my_dict, 2)\n",
    "print(my_dict)\n",
    "print(new_dict)\n",
    "\n",
    "#{'m': 1, 'y': 2, 'e': 3}\n",
    "#{'m': 1, 'e': 3}\n",
    "#{'m': 1, 'y': 2, 'e': 3}\n",
    "#{'m': 1, 'y': 2, 'e': 3}\n",
    "#{'m': 1, 'e': 3}\n",
    "\n",
    "# Ex. 3b\n",
    "# OUT OF PLACE\n",
    "def clean_dict_values_3b(d, bad_list):\n",
    "    return {k: v for k, v in d.items() if v not in bad_list}\n",
    "\n",
    "\n",
    "print(clean_dict_values_3b({'m': 1, 'y': 2, 'e': 3}, [1, 2]))\n",
    "\n",
    "cleaned_dict = clean_dict_values_3b(my_dict, [1, 2])\n",
    "print(my_dict)\n",
    "print(cleaned_dict)\n",
    "\n",
    "#{'e': 3}\n",
    "#{'m': 1, 'y': 2, 'e': 3}\n",
    "#{'e': 3}"
   ]
  },
  {
   "cell_type": "markdown",
   "metadata": {},
   "source": [
    "# Day 8 - Sets, Tuples "
   ]
  },
  {
   "cell_type": "code",
   "execution_count": 30,
   "metadata": {},
   "outputs": [
    {
     "name": "stdout",
     "output_type": "stream",
     "text": [
      "(0, 5.0, 10)\n",
      "(2, 4.27, 6.8)\n",
      "(2, 546.97, 3252)\n"
     ]
    }
   ],
   "source": [
    "# 1. Min, Avg, Max\n",
    "\n",
    "# Write a function get_min_avg_max (sequence) that returns a tuple with three values, the smallest, the arithmetic mean, and the largest value in the string, respectively.\n",
    "\n",
    "# Example:\n",
    "\n",
    "# get_min_avg_max ([0,10,1,9]) -> (0,5,10)\n",
    "\n",
    "# the incoming sequence can be a tuple or a list with numeric values.\n",
    "\n",
    "from statistics import mean\n",
    "# from statistics import median\n",
    "# from statistics import mode # and so on\n",
    "\n",
    "def get_min_avg_max(sequence):\n",
    "    # return min(sequence), sum(sequence)/len(sequence), max(sequence) # one liner\n",
    "    # return min(sequence), round(mean(sequence),4), max(sequence)  # one liner\n",
    "    max_value = max(sequence)\n",
    "    min_value = min(sequence)\n",
    "    if type(sequence) == str: # we have no mean defined for strings\n",
    "        ord_list = [ord(i) for i in sequence]\n",
    "        return min_value, chr(int(sum(ord_list)/len(ord_list))), max_value # silly example\n",
    "    mean_value = round(sum(sequence)/len(sequence), 2)\n",
    "    my_tuple = (min_value, mean_value, max_value) # parenthesis are optional\n",
    "    return my_tuple\n",
    "\n",
    "print(get_min_avg_max([0,10,1,9])) #OUTPUT: (0, 5, 10)\n",
    "print(get_min_avg_max([2,4,6.8])) #OUTPUT: (2, 4, 6.8)\n",
    "print(get_min_avg_max([2,4,6.8,7,10,3252])) #OUTPUT: (2, 4, 6.8)\n",
    "# print(get_min_avg_max(\"vamir\"))"
   ]
  },
  {
   "cell_type": "code",
   "execution_count": 31,
   "metadata": {},
   "outputs": [
    {
     "name": "stdout",
     "output_type": "stream",
     "text": [
      "()\n",
      "('b',)\n",
      "('a',)\n",
      "('b',)\n",
      "('a',)\n"
     ]
    }
   ],
   "source": [
    "# 2. Common Elements\n",
    "\n",
    "\n",
    "\n",
    "# Write a function that returns a tuple with common elements in three sequences. Inputs can be list, tuple, string.\n",
    "\n",
    "# get_common_elements(seq1, seq2, seq3)\n",
    "\n",
    "# Example:\n",
    "\n",
    "# get_common_elements(\"abc\", ['a', 'b'], ('b', 'c')) -> ('b',) # we return a tuple with a single element \n",
    "\n",
    "# # remember that we can convert strings to set with set(mystring), and set to tuple with tuple(myset)\n",
    "\n",
    "# 2. b For those with some experience \n",
    "\n",
    "# BONUS:  make a function that can handle an arbitrary number of input sequences\n",
    "# so function which takes any number of sequences and returns a tuple with common elements\n",
    "# get_common_elements(seq1, seq2, seq3, seq4, seq5, seq6, seq7) etc :), so just like print takes any number of values\n",
    "\n",
    "def get_common_elements(seq1, seq2, seq3):\n",
    "    set1 = set(seq1)\n",
    "    set2 = set(seq2)\n",
    "    set3 = set(seq3)\n",
    "    return  tuple(set1 & set2 & set3)\n",
    "    \n",
    "    #       TEST\n",
    "\n",
    "result = get_common_elements(\"abc\", ['a', 'b'], ('b', 'c'))\n",
    "result = get_common_elements(\"abcd\", ['a', 'b', 'e', 'd'], \"Valdis\")\n",
    "result = get_common_elements(\"abcd\", ['a', 'b', 'e', 'd'], \"Egle\")\n",
    "print(result)\n",
    "\n",
    "def get_common_elements_unlimited(*seq):\n",
    "    if len(seq) == 0:\n",
    "        return tuple()  # empty tuple\n",
    "    return tuple((set(seq[0]).intersection(*seq[1:]))) # we can unpack the list of sets with *seq[1:]\n",
    "\n",
    "print(get_common_elements_unlimited(\"abc\", ['a', 'b'], ('b', 'c')))\n",
    "print(get_common_elements_unlimited(\"abc\", ['a', 'b'], ('b','a', 'c'), \"Valdis\", \"Visvaldis\"))\n",
    "\n",
    "def get_common_elements_2b(*args):\n",
    "    if len(args) == 0:\n",
    "        return tuple()  #early return pattern\n",
    "\n",
    "    seq_set = set(args[0])  # so at least one argument is guaranteed\n",
    "    for seq in args[1:]:\n",
    "        seq_set = seq_set & set(seq) # so we add intersection one by one\n",
    "\n",
    "    return tuple(seq_set)\n",
    "\n",
    "print(get_common_elements_2b(\"abc\", ['a', 'b'], ('b', 'c')))\n",
    "print(get_common_elements_2b(\"abc\", ['a', 'b'], ('b','a', 'c'), \"Valdis\", \"Visvaldis\"))"
   ]
  },
  {
   "cell_type": "code",
   "execution_count": 32,
   "metadata": {},
   "outputs": [
    {
     "name": "stdout",
     "output_type": "stream",
     "text": [
      "False\n",
      "False\n",
      "False\n"
     ]
    }
   ],
   "source": [
    "# 3. Is there a pangram?\n",
    "\n",
    "# Write a function is_pangram(text, alphabet='abcdefghijklmnopqrstuvwxyz')\n",
    "\n",
    "# that returns True when the text parameter contains all the letters passed in an alphabet.\n",
    "# We return False otherwise\n",
    "\n",
    "\n",
    "# pangram - sentence, word string containing all letters of the alphabet - https://en.wikipedia.org/wiki/Pangram\n",
    "\n",
    "# We ignore spaces and believe that uppercase is as valid as lowercase, i. here A and a -> a\n",
    "\n",
    "# print(is_pangram(\"The five boxing wizards jump quickly\")) -> True\n",
    "# print(is_pangram(\"Not a pangram\")) -> False\n",
    "\n",
    "# Bonus: test it also on Latvian alphabet:\n",
    "# a_lv = 'aābcčdeēfgģhiījkķlļmnņoprsštuūvzž'\n",
    "\n",
    "# print(is_pangram('Tfū, čeh, džungļos blīkšķ, zvaņģim jācērp!', alphabet=a_lv)) -> True\n",
    "\n",
    "# Bonus: test it also on Lithuanian alphabet:\n",
    "# a_lt = 'aąbcčdeęėfghiįyjklmnoprsštuųūvzž' # see if this correct\n",
    "\n",
    "# some languages have perfect pangrams, some do not\n",
    "# perfect pangram - a pangram that uses every letter of the alphabet at just once\n",
    "\n",
    "# def is_pangram(text, alphabet='abcdefghijklmnopqrstuvwxyz'):\n",
    "#     text_set = set(text.lower())\n",
    "#     abc_set = set(alphabet)\n",
    "#     return abc_set.intersection(text_set) == abc_set\n",
    "\n",
    "# def is_pangram(text, alphabet='abcdefghijklmnopqrstuvwxyz'):\n",
    "#     spl_text = set(text.lower())\n",
    "#     spl_alph = set(alphabet)\n",
    "#     # return spl_alph.issubset(spl_text)\n",
    "#     return spl_alph <= spl_text # same as above\n",
    "\n",
    "# one line function\n",
    "def is_pangram(text, alphabet=\"abcdefghijklmnopqrstuvwxyz\"):\n",
    "        return set(alphabet).issubset(set(text))\n",
    "\n",
    "print(is_pangram(\"The five boxing wizards jump quickly\"))\n",
    "print(is_pangram(\"Not a pangram\"))\n",
    "\n",
    "a_lt=\"aąbcčdeęėfghiįyjklmnoprsštuųūvzž\"\n",
    "print(is_pangram(\"Įlinkdama fechtuotojo špaga sublykčiojusi pragręžė apvalų arbūzą\", alphabet=a_lt)) #true\n",
    "# translate Įlinkdama fechtuotojo špaga sublykčiojusi pragręžė apvalų arbūzą to English\n",
    "# https://translate.google.com/?sl=lt&tl=en&text=Įlinkdama%20fechtuotojo%20špaga%20sublykčiojusi%20pragręžė%20apvalų%20arbūzą&op=translate\n",
    "\n"
   ]
  },
  {
   "cell_type": "code",
   "execution_count": 33,
   "metadata": {},
   "outputs": [
    {
     "name": "stdout",
     "output_type": "stream",
     "text": [
      "af\n"
     ]
    }
   ],
   "source": [
    "# write a function of 3 arguments all strings\n",
    "# function should return lexigraphically ordered string of unique characters\n",
    "# these unique characters must be present in BOTH  of the first two strings \n",
    "# BUT not in the third \"badstring\"\n",
    "\n",
    "# example:\n",
    "# \"abcf\", \"fab\", \"boo\"  returns -> \"af\" \n",
    "# because \"a\" is in both \"abc\" and \"fab\" but not in \"boo\"\n",
    "# same goes for \"f\" it is present in both \"good strings\" but not in \"badstring\"\n",
    "# notice \"b\" is not in the result because it is in the badstring.\n",
    "\n",
    "# slightly harder way would be to use loops and if statements to check each character\n",
    "# the easy way is to use sets and set operations 😊\n",
    "\n",
    "# either approach is acceptable\n",
    "\n",
    "def my_funct_strings(a, b, badstring):\n",
    "    set1 = set(a)\n",
    "    set2 = set(b)\n",
    "    set3 = set(badstring)\n",
    "    new_set1 = set1 - set3\n",
    "    new_set2 = set2 - set3\n",
    "    #return new_set1.intersection(new_set2)\n",
    "    result = new_set1.intersection(new_set2)\n",
    "    result = \"\".join(sorted(result))\n",
    "    return result\n",
    "\n",
    "print(my_funct_strings(\"abcf\", \"fab\", \"boo\"))\n",
    "\n",
    "\n"
   ]
  },
  {
   "cell_type": "markdown",
   "metadata": {},
   "source": [
    "# Day 10 - Classes"
   ]
  },
  {
   "cell_type": "code",
   "execution_count": 34,
   "metadata": {},
   "outputs": [
    {
     "name": "stdout",
     "output_type": "stream",
     "text": [
      "Song by  called \n",
      "Song by Jumprava called Ziemeļmeita\n"
     ]
    }
   ],
   "source": [
    "# # Day 10 - Work in Class - Classes and Objects\n",
    "# 1. Song class\n",
    "# define a class Song\n",
    "\n",
    "# The class constructor needs to have three additional 3 parameters (self and 3 more!)\n",
    "\n",
    "# title defaults to empty string\n",
    "# author defaults to empty string\n",
    "# lyrics by default empty tuple\n",
    "\n",
    "# inside constructor method:\n",
    "\n",
    "# set/store these three parameters inside objects variables of the same name (remember to use self!)\n",
    "#  print on the screen \"New Song made\" - (try also printing here author and title!)\n",
    "\n",
    "# Minimum:\n",
    "# Write a method sing that prints the song line by line on the screen, \n",
    "# first printing the author and title, if any.\n",
    "\n",
    "# Write a method yell that prints the song in capital letters \n",
    "# line by line on the screen, first printing the author and title, if any.\n",
    "\n",
    "# Bonus: make the above sing and chain methods chainable, \n",
    "# so we can call them several times (chained)\n",
    "# Bonus: create an additional parameter max_lines to yell and \n",
    "# sing methods that prints only a certain number of lines for both sing and yell. \n",
    "# Better do with some default value e.g. -1, at which all rows are then printed.\n",
    "\n",
    "# Create multiple songs with lyrics\n",
    "\n",
    "# Example:\n",
    "\n",
    "\n",
    "# ziemelmeita = Song(\"Ziemeļmeita\", \"Jumprava\", [\"Gāju meklēt ziemeļmeitu\",\"\n",
    "# Garu, tālu ceļu veicu\"])\n",
    "\n",
    "# ziemelmeita.sing(1).yell()\n",
    "\n",
    "# Outputs:\n",
    "\n",
    "# Ziemeļmeita - Jumprava\n",
    "\n",
    "# Gāju meklēt ziemeļmeitu\n",
    "\n",
    "# Ziemeļmeita - Jumprava\n",
    "\n",
    "# GĀJU MEKLĒT ZIEMEĻMEITU\n",
    "\n",
    "# GARU, TĀLU CEĻU VEICU\n",
    "class Song:\n",
    "    # notice how lyrics default is a tuple, not a list, lists as defaults are dangerous\n",
    "    def __init__(self, title=\"\", author=\"\", lyrics=()):\n",
    "        self.title = title\n",
    "        self.author = author\n",
    "        self.lyrics = lyrics\n",
    "        # print(f\"New Song made by {self.author} called {self.title}\")\n",
    "        self.__print_song_info()\n",
    "\n",
    "    # so private function for internal use only\n",
    "    # we lose some customizability but we gain some security\n",
    "    # it could have been public but we don't want to expose it with no need\n",
    "    def __print_song_info(self):\n",
    "        print(f\"Song by {self.author} called {self.title}\")\n",
    "\n",
    "    def sing(self, max_lines=-1):\n",
    "        # print(f\"Singing song by {self.author} called {self.title}\")\n",
    "        self.__print_song_info()\n",
    "        if max_lines == -1:\n",
    "            max_lines = len(self.lyrics) # our default\n",
    "        for line in self.lyrics[:max_lines]: # so default will be all lines\n",
    "            print(line)\n",
    "        return self # so by returning self we can chain methods like this:\n",
    "\n",
    "    def yell(self, max_lines=-1):\n",
    "        # print(f\"Yelling song by {self.author} called {self.title}\")\n",
    "        self.__print_song_info()\n",
    "        if max_lines == -1:\n",
    "            max_lines = len(self.lyrics) # our default\n",
    "        for line in self.lyrics[:max_lines]:\n",
    "            print(line.upper())\n",
    "        return self\n",
    "\n",
    "# Minimum:\n",
    "\n",
    "# Write a method sing that prints the song line by line on the screen, first printing the author and title, if any.\n",
    "\n",
    "# Write a method yell that prints the song in capital letters line by line on the screen, first printing the author and title, if any.\n",
    "\n",
    "# Bonus: make the above sing and chain methods chainable, so we can call them several times (chained)\n",
    "\n",
    "# Bonus: create an additional parameter max_lines to yell and sing methods that prints only a certain number of lines for both sing and yell. Better do with some default value e.g. -1, at which all rows are then printed.\n",
    "\n",
    "# Create multiple songs with lyrics\n",
    "\n",
    "# Example:\n",
    "\n",
    "blank_song = Song()\n",
    "ziemelmeita = Song(\"Ziemeļmeita\", \"Jumprava\", [\"Gāju meklēt ziemeļmeitu\",\"Garu, tālu ceļu veicu\",\"Grūti bija\"])"
   ]
  },
  {
   "cell_type": "code",
   "execution_count": 35,
   "metadata": {},
   "outputs": [
    {
     "name": "stdout",
     "output_type": "stream",
     "text": [
      "Song by Jumprava called Ziemeļmeita\n",
      "Singer: Jumprava - Ziemeļmeita\n",
      "Gāju yeah meklēt yeah ziemeļmeitu\n",
      "Singer: Jumprava - Ziemeļmeita\n",
      "Gāju yeah meklēt yeah ziemeļmeitu\n",
      "Garu, yeah tālu yeah ceļu yeah veicu\n",
      "Song by Jumprava called Ziemeļmeita\n",
      "Gāju meklēt ziemeļmeitu\n",
      "Garu, tālu ceļu veicu\n",
      "Song by Jumprava called Ziemeļmeita\n",
      "GĀJU MEKLĒT ZIEMEĻMEITU\n",
      "GARU, TĀLU CEĻU VEICU\n",
      "Singer: Jumprava - Ziemeļmeita\n",
      "Gāju yeah meklēt yeah ziemeļmeitu\n",
      "Garu, yeah tālu yeah ceļu yeah veicu\n",
      "Song by Līvi called Vairogi\n",
      "Song by Līvi called Vairogi\n",
      "Mūsu dziesmas ir vairogi seni\n",
      "Mēs tās par pagalvjiem liksim\n",
      "Daudzu likteņu pilni mēs elposim\n",
      "Kā pakalni Daugavas krastos\n",
      "Song by Līvi called Vairogi\n",
      "MŪSU DZIESMAS IR VAIROGI SENI\n",
      "MĒS TĀS PAR PAGALVJIEM LIKSIM\n",
      "Singer: Līvi - Vairogi\n",
      "Mūsu Jā! dziesmas Jā! ir Jā! vairogi Jā! seni\n",
      "Mēs Jā! tās Jā! par Jā! pagalvjiem Jā! liksim\n",
      "Daudzu Jā! likteņu Jā! pilni Jā! mēs Jā! elposim\n",
      "Kā Jā! pakalni Jā! Daugavas Jā! krastos\n",
      "Singer: Līvi - Vairogi\n",
      "Mūsu ahh dziesmas ahh ir ahh vairogi ahh seni\n",
      "Mēs ahh tās ahh par ahh pagalvjiem ahh liksim\n"
     ]
    },
    {
     "data": {
      "text/plain": [
       "<__main__.Rap at 0x7f78112d1070>"
      ]
     },
     "execution_count": 35,
     "metadata": {},
     "output_type": "execute_result"
    }
   ],
   "source": [
    "class Rap(Song):\n",
    "\n",
    "    # no need for custom __init__ in this case\n",
    "    def break_it(self, max_lines=-1, drop=\"yeah\"):\n",
    "        print(\"Singer:\", self.author, \"-\", self.title)\n",
    "        for line in self.lyrics:\n",
    "            print(line.replace(' ', f' {drop} '), sep=\"\\n\")\n",
    "            max_lines -= 1\n",
    "            if max_lines == 0:\n",
    "                break\n",
    "        return self\n",
    "\n",
    "\n",
    "ziemelmeita = Rap(\"Ziemeļmeita\", \"Jumprava\", [\"Gāju meklēt ziemeļmeitu\", \"Garu, tālu ceļu veicu\"])\n",
    "ziemelmeita.break_it(1).break_it()\n",
    "\n",
    "ziemelmeita.sing().yell().break_it()\n",
    "\n",
    "livi = Rap(\"Vairogi\", \"Līvi\", [\"Mūsu dziesmas ir vairogi seni\", \"Mēs tās par pagalvjiem liksim\",\n",
    "                                   \"Daudzu likteņu pilni mēs elposim\", \"Kā pakalni Daugavas krastos\"])\n",
    "\n",
    "livi.sing().yell(2).break_it(drop=\"Jā!\").break_it(2, \"ahh\")"
   ]
  },
  {
   "cell_type": "code",
   "execution_count": 36,
   "metadata": {},
   "outputs": [
    {
     "name": "stdout",
     "output_type": "stream",
     "text": [
      "Song by Jumprava called Ziemeļmeita\n",
      "Song by Jumprava called Ziemeļmeita\n",
      "GĀJU MEKLĒT ZIEMEĻMEITU\n",
      "GARU, TĀLU CEĻU VEICU\n",
      "Breaking down rap by Jumprava called Ziemeļmeita\n",
      "Gāju yah meklēt yah ziemeļmeitu yah\n"
     ]
    },
    {
     "data": {
      "text/plain": [
       "<__main__.Rap at 0x7f781202f520>"
      ]
     },
     "execution_count": 36,
     "metadata": {},
     "output_type": "execute_result"
    }
   ],
   "source": [
    "# 2. Rap class\n",
    "# For those feeling comfortable with class syntax, create a Rap class that inherits from Song\n",
    "\n",
    "# # no new constructor method is necessary (you can if you want)\n",
    "\n",
    "\n",
    "#  add a new method break_it with two default parameters max_lines=-1 and drop equal to \"yeah\", which is similar to sing, but adds a drop after each word .\n",
    "\n",
    "# Example: \n",
    "\n",
    "\n",
    "\n",
    "# zrap = Rap(\"Ziemeļmeita\", \"Jumprava\", [\"Gāju meklēt ziemeļmeitu\",\"\n",
    "\n",
    "# Garu, tālu ceļu veicu\"])\n",
    "\n",
    "\n",
    "\n",
    "# zrap.break_it(1, \"yah\")\n",
    "\n",
    "# Ziemeļmeita - Jumprava\n",
    "\n",
    "# Gāju YAH meklēt YAH ziemeļmeitu YAH\n",
    "\n",
    "class Rap(Song):\n",
    "    def break_it(self, max_lines=-1, drop=\"yeah\"):\n",
    "        print(f\"Breaking down rap by {self.author} called {self.title}\")\n",
    "        if max_lines == -1:\n",
    "            max_lines = len(self.lyrics) # our default\n",
    "        for line in self.lyrics[:max_lines]:\n",
    "            words = line.split()\n",
    "            new_line = f\" {drop} \".join(words) + \" \" + drop # add drop at the end\n",
    "            # # using replace as long as lyrics do not have extra whitespaces\n",
    "            # new_line = line.replace(\" \", f\" {drop} \") + \" \" + drop\n",
    "            # # the replace approach is more prone to input errors\n",
    "            print(new_line)\n",
    "        return self\n",
    "#  add a new method break_it with two default parameters max_lines=-1 and drop equal to \"yeah\", which is similar to sing, but adds a drop after each word .\n",
    "\n",
    "# Example: \n",
    "\n",
    "\n",
    "\n",
    "zrap = Rap(\"Ziemeļmeita\", \"Jumprava\", [\"Gāju meklēt ziemeļmeitu\",\"Garu, tālu ceļu veicu\"])\n",
    "\n",
    "\n",
    "\n",
    "zrap.yell().break_it(1, \"yah\")"
   ]
  },
  {
   "cell_type": "markdown",
   "metadata": {},
   "source": [
    "# Day 11 - Modules, Programs"
   ]
  },
  {
   "cell_type": "code",
   "execution_count": 37,
   "metadata": {},
   "outputs": [
    {
     "name": "stdout",
     "output_type": "stream",
     "text": [
      "[(5, 'hearts ♥'), ('Q', 'spades ♠'), ('J', 'diamonds ♦'), (2, 'clubs ♣'), ('A', 'hearts ♥')]\n"
     ]
    }
   ],
   "source": [
    "# 1. The Shuffle\n",
    "\n",
    "# write  a function get_shuffled_cards()\n",
    "\n",
    "# Inside the function create  a 52-card list of tuples [(\"2\", \"diamonds ♦\"), (\"2\", \"hearts ♥\"), ....., (\"A\", \"spades ♠\"), (\"A\", \"clubs ♣\")]\n",
    "\n",
    "# The function returns a shuffled set of cards - the same list with tuples but shuffled!\n",
    "\n",
    "# Find the correct method from built in random library.\n",
    "\n",
    "# you can use a loop or use something from the library\n",
    "\n",
    "# BONUS: Something can be useful from here: https://docs.python.org/3/library/itertools.html\n",
    "\n",
    "import random\n",
    "\n",
    "def get_shuffled_cards():\n",
    "    my_values = [2, 3, 4, 5, 6, 7, 8, 9, 10, \"J\", \"Q\", \"K\", \"A\"]\n",
    "    my_cards = [\"diamonds ♦\", \"hearts ♥\", \"spades ♠\", \"clubs ♣\"]\n",
    "    cards = [(value, suit) for value in my_values for suit in my_cards]\n",
    "    random.shuffle(cards)\n",
    "    return cards\n",
    "\n",
    "if __name__ == '__main__':\n",
    "    cards = get_shuffled_cards()\n",
    "    print(cards[:5])\n",
    "\n",
    "#OUTPUT:\n",
    "#[(7, 'spades ♠'), (2, 'diamonds ♦'), (10, 'spades ♠'), (3, 'clubs ♣'), (10, 'clubs ♣')]"
   ]
  },
  {
   "cell_type": "code",
   "execution_count": 38,
   "metadata": {},
   "outputs": [
    {
     "name": "stdout",
     "output_type": "stream",
     "text": [
      "Available cards: [(6, 'clubs (♣)'), ('Q', 'spades (♠)'), (5, 'spades (♠)'), (4, 'hearts (♥)'), (4, 'spades (♠)'), (10, 'diamonds (♦)'), (9, 'hearts (♥)'), (2, 'diamonds (♦)'), (9, 'clubs (♣)'), (8, 'clubs (♣)'), (6, 'spades (♠)'), (9, 'spades (♠)'), (7, 'clubs (♣)'), (6, 'hearts (♥)'), (4, 'clubs (♣)'), ('A', 'hearts (♥)'), (2, 'hearts (♥)'), (10, 'clubs (♣)'), (7, 'spades (♠)'), ('K', 'spades (♠)'), (8, 'spades (♠)'), ('K', 'diamonds (♦)'), (5, 'diamonds (♦)'), (3, 'hearts (♥)'), (8, 'diamonds (♦)'), ('A', 'spades (♠)'), (10, 'spades (♠)'), ('K', 'clubs (♣)'), ('Q', 'hearts (♥)'), (8, 'hearts (♥)'), ('K', 'hearts (♥)'), (5, 'hearts (♥)'), ('J', 'hearts (♥)'), ('Q', 'clubs (♣)'), ('A', 'clubs (♣)'), (7, 'diamonds (♦)'), (2, 'clubs (♣)'), (5, 'clubs (♣)'), ('A', 'diamonds (♦)'), (9, 'diamonds (♦)'), ('J', 'diamonds (♦)'), (2, 'spades (♠)'), ('J', 'clubs (♣)'), ('J', 'spades (♠)'), (3, 'clubs (♣)'), (3, 'spades (♠)'), (3, 'diamonds (♦)'), ('Q', 'diamonds (♦)'), (6, 'diamonds (♦)'), (7, 'hearts (♥)'), (10, 'hearts (♥)'), (4, 'diamonds (♦)')]\n",
      "Spent cards: []\n",
      "[(6, 'clubs (♣)'), ('Q', 'spades (♠)')]\n",
      "[(5, 'spades (♠)'), (4, 'hearts (♥)'), (4, 'spades (♠)'), (10, 'diamonds (♦)'), (9, 'hearts (♥)'), (2, 'diamonds (♦)')]\n",
      "Available cards: [(9, 'clubs (♣)'), (8, 'clubs (♣)'), (6, 'spades (♠)'), (9, 'spades (♠)'), (7, 'clubs (♣)'), (6, 'hearts (♥)'), (4, 'clubs (♣)'), ('A', 'hearts (♥)'), (2, 'hearts (♥)'), (10, 'clubs (♣)'), (7, 'spades (♠)'), ('K', 'spades (♠)'), (8, 'spades (♠)'), ('K', 'diamonds (♦)'), (5, 'diamonds (♦)'), (3, 'hearts (♥)'), (8, 'diamonds (♦)'), ('A', 'spades (♠)'), (10, 'spades (♠)'), ('K', 'clubs (♣)'), ('Q', 'hearts (♥)'), (8, 'hearts (♥)'), ('K', 'hearts (♥)'), (5, 'hearts (♥)'), ('J', 'hearts (♥)'), ('Q', 'clubs (♣)'), ('A', 'clubs (♣)'), (7, 'diamonds (♦)'), (2, 'clubs (♣)'), (5, 'clubs (♣)'), ('A', 'diamonds (♦)'), (9, 'diamonds (♦)'), ('J', 'diamonds (♦)'), (2, 'spades (♠)'), ('J', 'clubs (♣)'), ('J', 'spades (♠)'), (3, 'clubs (♣)'), (3, 'spades (♠)'), (3, 'diamonds (♦)'), ('Q', 'diamonds (♦)'), (6, 'diamonds (♦)'), (7, 'hearts (♥)'), (10, 'hearts (♥)'), (4, 'diamonds (♦)')]\n",
      "Spent cards: [(6, 'clubs (♣)'), ('Q', 'spades (♠)'), (5, 'spades (♠)'), (4, 'hearts (♥)'), (4, 'spades (♠)'), (10, 'diamonds (♦)'), (9, 'hearts (♥)'), (2, 'diamonds (♦)')]\n"
     ]
    }
   ],
   "source": [
    "# 2. Deck - probably for homework, see how far you get\n",
    "# write a class Deck with the following attributes(variables)\n",
    "# available - contains list of card tuples that can be used\n",
    "# spent - contains list of card tuples that have been used\n",
    "\n",
    "# there should be following methods:\n",
    "# constructor (__init__) method\n",
    "# initializes available with full 52 card list of tuples\n",
    "# initializes spent with empty list\n",
    "\n",
    "# shuffle(self):\n",
    "\n",
    "# # shuffles available cards - works just like 1st function but works on available\n",
    "\n",
    "# get_cards(self, count=1):\n",
    "# # gets some number(default 1) of cards from available \n",
    "# adds these cards to spent\n",
    "# returns these cards\n",
    "\n",
    "# # you can add other methods and/or attributes if you wish to Deck class\n",
    "import random\n",
    "import string\n",
    "import itertools\n",
    "\n",
    "def get_shuffled_cards():\n",
    "    my_values = [2, 3, 4, 5, 6, 7, 8, 9, 10, \"J\", \"Q\", \"K\", \"A\"]\n",
    "    my_cards = [\"diamonds ♦\", \"hearts ♥\", \"spades ♠\", \"clubs ♣\"]\n",
    "    cards = [(value, suit) for value in my_values for suit in my_cards]\n",
    "    random.shuffle(cards)\n",
    "    return cards\n",
    "\n",
    "class Deck:\n",
    "\n",
    "    my_cards = [\"clubs (♣)\", \"diamonds (♦)\", \"hearts (♥)\", \"spades (♠)\"]\n",
    "    my_values = [2, 3, 4, 5, 6, 7, 8, 9, 10, \"J\", \"Q\", \"K\", \"A\"]\n",
    "\n",
    "    def __init__(self):\n",
    "        self.available = list(itertools.product(self.my_values, self.my_cards))\n",
    "        self.shuffle()\n",
    "        self.spent = []\n",
    "\n",
    "    def __str__(self):\n",
    "        return f\"Available cards: {self.available}\\nSpent cards: {self.spent}\"\n",
    "\n",
    "    def shuffle(self):\n",
    "        self.available = random.sample(self.available, len(self.available))\n",
    "        return self\n",
    "\n",
    "    def get_cards(self, count=1):\n",
    "        cards = self.available[:count]\n",
    "        self.spent.extend(cards)\n",
    "        self.available = self.available[count:]\n",
    "        return cards\n",
    "\n",
    "if __name__ == \"__main__\":\n",
    "    #print(get_shuffled_cards())\n",
    "    my_deck = Deck()\n",
    "    my_deck.shuffle()\n",
    "    print(my_deck)\n",
    "    print(my_deck.get_cards(2)) #[('A', 'spades (♠)'), ('J', 'clubs (♣)')]\n",
    "    print(my_deck.get_cards(6)) #[(10, 'diamonds (♦)'), (9, 'clubs (♣)'), (5, 'diamonds (♦)'), (10, 'clubs (♣)'), (10, 'spades (♠)'), (4, 'spades (♠)')]\n",
    "    print(my_deck)\n",
    "\n",
    "#Available cards: [('Q', 'hearts (♥)'), (3, 'spades (♠)'), (7, 'diamonds (♦)'), (8, 'hearts (♥)'), \n",
    "# (3, 'hearts (♥)'), (5, 'spades (♠)'), ('J', 'hearts (♥)'), (2, 'hearts (♥)'), (10, 'hearts (♥)'), \n",
    "# (6, 'spades (♠)'), ('K', 'spades (♠)'), (6, 'clubs (♣)'), ('K', 'clubs (♣)'), (3, 'diamonds (♦)'), \n",
    "# (4, 'hearts (♥)'), (7, 'hearts (♥)'), ('K', 'hearts (♥)'), (3, 'clubs (♣)'), (9, 'spades (♠)'), \n",
    "# (6, 'diamonds (♦)'), (10, 'diamonds (♦)'), (8, 'spades (♠)'), (4, 'clubs (♣)'), ('K', 'diamonds (♦)'), \n",
    "# ('J', 'spades (♠)'), (10, 'spades (♠)'), ('A', 'clubs (♣)'), (9, 'diamonds (♦)'), ('A', 'hearts (♥)'), \n",
    "# ('Q', 'diamonds (♦)'), ('A', 'diamonds (♦)'), ('J', 'diamonds (♦)'), (9, 'clubs (♣)'), (5, 'hearts (♥)'), \n",
    "# (2, 'clubs (♣)'), (8, 'clubs (♣)'), ('J', 'clubs (♣)'), (8, 'diamonds (♦)'), ('Q', 'spades (♠)'), \n",
    "# (6, 'hearts (♥)'), (7, 'clubs (♣)'), (4, 'diamonds (♦)'), (4, 'spades (♠)'), (9, 'hearts (♥)'), \n",
    "# (2, 'diamonds (♦)'), (5, 'diamonds (♦)'), (5, 'clubs (♣)'), (2, 'spades (♠)'), ('A', 'spades (♠)'), \n",
    "# (10, 'clubs (♣)'), (7, 'spades (♠)'), ('Q', 'clubs (♣)')]\n",
    "#Spent cards: []\n"
   ]
  }
 ],
 "metadata": {
  "kernelspec": {
   "display_name": "Python 3.8.8 ('myenv': venv)",
   "language": "python",
   "name": "python3"
  },
  "language_info": {
   "codemirror_mode": {
    "name": "ipython",
    "version": 3
   },
   "file_extension": ".py",
   "mimetype": "text/x-python",
   "name": "python",
   "nbconvert_exporter": "python",
   "pygments_lexer": "ipython3",
   "version": "3.8.8"
  },
  "orig_nbformat": 4,
  "vscode": {
   "interpreter": {
    "hash": "f4399fc022079f002860625cc5707f51dba9801f67dbcb5cf226f7f6d65ac101"
   }
  }
 },
 "nbformat": 4,
 "nbformat_minor": 2
}
