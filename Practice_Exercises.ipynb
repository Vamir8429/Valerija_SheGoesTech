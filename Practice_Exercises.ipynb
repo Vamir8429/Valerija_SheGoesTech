{
 "cells": [
  {
   "cell_type": "markdown",
   "metadata": {},
   "source": [
    "# Day 1 - Introduction"
   ]
  },
  {
   "cell_type": "code",
   "execution_count": 1,
   "metadata": {},
   "outputs": [
    {
     "name": "stdout",
     "output_type": "stream",
     "text": [
      "Valerija Valerija Valerija Valerija Valerija \n"
     ]
    }
   ],
   "source": [
    "# Exercise 1. \n",
    "# Print your name 5 times \n",
    "print(\"Valerija \" * 5)"
   ]
  },
  {
   "cell_type": "code",
   "execution_count": 2,
   "metadata": {},
   "outputs": [
    {
     "name": "stdout",
     "output_type": "stream",
     "text": [
      "Bananananana\n"
     ]
    }
   ],
   "source": [
    "#Exercise 2. \n",
    "# print Bananananana using Ba once and na 5 times\n",
    "print(\"Ba\"+(\"na\"*5))"
   ]
  },
  {
   "cell_type": "code",
   "execution_count": 7,
   "metadata": {},
   "outputs": [
    {
     "name": "stdout",
     "output_type": "stream",
     "text": [
      "31536000\n"
     ]
    }
   ],
   "source": [
    "# Exerise 3 \n",
    "# Print the number of seconds in a year calculated from months, days, minutes, seconds\n",
    "\n",
    "print(365*24*60*60)"
   ]
  },
  {
   "cell_type": "code",
   "execution_count": 9,
   "metadata": {},
   "outputs": [
    {
     "name": "stdout",
     "output_type": "stream",
     "text": [
      "10000000000000000000000000000000000000000000000000000000000000000000000000000000000000000000000000000\n"
     ]
    }
   ],
   "source": [
    "# Exercise 4 \n",
    "# How much a googol is that is 10 to the power of the 100th \n",
    "\n",
    "googol = 10**100\n",
    "print(googol)"
   ]
  },
  {
   "cell_type": "code",
   "execution_count": 10,
   "metadata": {},
   "outputs": [
    {
     "name": "stdout",
     "output_type": "stream",
     "text": [
      "2012.1964718355514\n"
     ]
    }
   ],
   "source": [
    "# Exercise 5\n",
    "# How much will your 1000 Euro investment be worth after 12 years of 6% yearly interest? \n",
    "\n",
    "my_investment = 1000 * (1.06 ** 12)\n",
    "print(my_investment)"
   ]
  },
  {
   "cell_type": "markdown",
   "metadata": {},
   "source": [
    "# Day 2 - Data Types"
   ]
  },
  {
   "cell_type": "code",
   "execution_count": 11,
   "metadata": {},
   "outputs": [
    {
     "name": "stdout",
     "output_type": "stream",
     "text": [
      "Valerija\n"
     ]
    }
   ],
   "source": [
    "# Exercise 1 \n",
    "# Write a program that asks for and saves a username \n",
    "# Ask a question about the user age, using the username in the question \n",
    "# Shows in how many years the user will be 100 years old \n",
    "\n",
    "# BONUS: then you will need two additional lines: \n",
    "# import datetime \n",
    "# currentYear = datetime.datetime.now().year\n",
    "# Let the program also show the year when the user will be 100 years old \n",
    "# It could use a variable with the current year automatically \n",
    "\n",
    "username = input(\"What is your name? \")\n",
    "print(username)"
   ]
  },
  {
   "cell_type": "code",
   "execution_count": 12,
   "metadata": {},
   "outputs": [
    {
     "name": "stdout",
     "output_type": "stream",
     "text": [
      "27\n"
     ]
    }
   ],
   "source": [
    "age = int(input(f\"What is your age, {username}? \"))\n",
    "print(age)"
   ]
  },
  {
   "cell_type": "code",
   "execution_count": 13,
   "metadata": {},
   "outputs": [
    {
     "name": "stdout",
     "output_type": "stream",
     "text": [
      "Valerija will turn 100 in 73 years.\n"
     ]
    }
   ],
   "source": [
    "age_check = 100 - age\n",
    "print(f\"{username} will turn 100 in {age_check} years.\")"
   ]
  },
  {
   "cell_type": "code",
   "execution_count": 14,
   "metadata": {},
   "outputs": [
    {
     "name": "stdout",
     "output_type": "stream",
     "text": [
      "Valerija will turn 100 in 2095.\n"
     ]
    }
   ],
   "source": [
    "import datetime\n",
    "currentYear = datetime.datetime.now().year\n",
    "\n",
    "year_check = currentYear + age_check\n",
    "print(f\"{username} will turn 100 in {year_check}.\")"
   ]
  },
  {
   "cell_type": "code",
   "execution_count": 15,
   "metadata": {},
   "outputs": [
    {
     "name": "stdout",
     "output_type": "stream",
     "text": [
      "45\n"
     ]
    }
   ],
   "source": [
    "# Exercise 3 \n",
    "# Temperature conversion \n",
    "\n",
    "# Write a program that asks user for temperature in Celsius and prints out the same temperature in Farenheit \n",
    "# formula is: farenheit = 32 + celsius * (9/5) \n",
    "# PS. Remember about data type conversion, also consider precision \n",
    "\n",
    "current_celsius = int(input(\"What is current temperature in Vilnius? \"))\n",
    "current_farenheit = 32 + (current_celsius * (9/5))\n",
    "\n",
    "print(round(current_farenheit))"
   ]
  },
  {
   "cell_type": "markdown",
   "metadata": {},
   "source": [
    "# Day 3 - Boolean, Logic operators"
   ]
  },
  {
   "cell_type": "code",
   "execution_count": 19,
   "metadata": {},
   "outputs": [
    {
     "name": "stdout",
     "output_type": "stream",
     "text": [
      "Possible fever.. :(\n"
     ]
    }
   ],
   "source": [
    "# Exercise 1 - Health check \n",
    "# Ask user for their temperature\n",
    "# If the user enters below 35, then output \"not too cold\"\n",
    "# if 35 to 37 (inclusive) - output \"All righ\"\n",
    "# If the temperature over 37, then output - \"possible fever\" \n",
    "\n",
    "user_temperature = float(input(\"What is your body temperature? \"))\n",
    "\n",
    "if user_temperature < 35: \n",
    "    print(\"Not, too cold..\")\n",
    "elif user_temperature > 37: \n",
    "    print(\"Possible fever.. :(\")\n",
    "else: \n",
    "    print(\"All right\")"
   ]
  },
  {
   "cell_type": "code",
   "execution_count": 21,
   "metadata": {},
   "outputs": [
    {
     "name": "stdout",
     "output_type": "stream",
     "text": [
      "Unfortunately, you are not eligible to the bonus yet\n"
     ]
    }
   ],
   "source": [
    "# Exercise 2 - Xmas Bonus \n",
    "\n",
    "# The company has promised a Christmas bonus in the amount of 15% o the monthly salary for EVERY year of service over 2 years. \n",
    "# Task. Ask the user for the amount of monthly salary and the number of years worked. \n",
    "\n",
    "# Calculate the bonus \n",
    "# Example 1: 5 years of experience, 1000 Euro salary, the bonus will be 450 Euro \n",
    "# Example 2: 1.5 years of experience, 1500 Euro salary, no bonus (0)\n",
    "\n",
    "user_years_worked = float(input(\"How many years you are working in the current company?\"))\n",
    "user_salary = int(input(\"What is your current salary?\"))\n",
    "bonus_pool = 0.15\n",
    "\n",
    "if user_years_worked >= 2: \n",
    "    user_bonus = (user_salary * bonus_pool) * (user_years_worked - 2)\n",
    "    print(user_bonus)\n",
    "else:\n",
    "    print(\"Unfortunately, you are not eligible to the bonus yet\")  "
   ]
  },
  {
   "cell_type": "markdown",
   "metadata": {},
   "source": [
    "# Day 4 - Loops "
   ]
  },
  {
   "cell_type": "code",
   "execution_count": 22,
   "metadata": {},
   "outputs": [
    {
     "name": "stdout",
     "output_type": "stream",
     "text": [
      "1,2,3,4,Fizz,6,Buzz,8,9,Fizz,11,12,13,Buzz,Fizz,16,17,18,19,Fizz,Buzz,22,23,24,Fizz,26,27,Buzz,29,Fizz,31,32,33,34,Fizz,36,37,38,39,Fizz,41,Buzz,43,44,Fizz,46,47,48,Buzz,Fizz,51,52,53,54,Fizz,Buzz,57,58,59,Fizz,61,62,Buzz,64,Fizz,66,67,68,69,Fizz,71,72,73,74,Fizz,76,Buzz,78,79,Fizz,81,82,83,Buzz,Fizz,86,87,88,89,Fizz,Buzz,92,93,94,Fizz,96,97,Buzz,99,Fizz,"
     ]
    }
   ],
   "source": [
    "# Exercise 1 - FizzBuzz \n",
    "\n",
    "# Print a string 1,2,3,4, Fizz, 6, Buzz, 8, .... 34, FizzBuzz, 36, ... to 97, Buzz, 99, Fizz \n",
    "\n",
    "# So if number divided by 5 then Fizz, if divided by 7 then Buzz\n",
    "# If divided by 5 AND 7 then FizzBuzz, otherwise the same number\n",
    "\n",
    "for n in range(1,101): #from 1 to 100\n",
    "    if n % 5 == 0:\n",
    "        print(\"Fizz\", end=\",\")\n",
    "    elif n % 7 == 0:\n",
    "        print(\"Buzz\", end=\",\")\n",
    "    elif n % 5 == 0 and n % 7 == 0:\n",
    "        print(\"FizzBuzz\", end=\",\")\n",
    "    else:\n",
    "        print(n, end=\",\")"
   ]
  },
  {
   "cell_type": "code",
   "execution_count": 25,
   "metadata": {},
   "outputs": [
    {
     "name": "stdout",
     "output_type": "stream",
     "text": [
      "     *\n",
      "    ***\n",
      "   *****\n",
      "  *******\n",
      " *********\n",
      "***********\n"
     ]
    }
   ],
   "source": [
    "# Exercise 2 - Christmas tree \n",
    "\n",
    "# Ask user to enter the height of the tree \n",
    "# Then print the tree\n",
    "\n",
    "user_height = int(input(\"What is the height of the Christmas tree?\"))\n",
    "c_symbol = \"*\"\n",
    "\n",
    "for i in range(user_height):\n",
    "    print(' ' * (user_height - i - 1) + c_symbol * (2 * i + 1))"
   ]
  },
  {
   "cell_type": "code",
   "execution_count": 26,
   "metadata": {},
   "outputs": [
    {
     "name": "stdout",
     "output_type": "stream",
     "text": [
      "7 is a prime number\n"
     ]
    }
   ],
   "source": [
    "# Exercise 3 - Primes Check \n",
    "\n",
    "# A prime number is a number that divides without remainder only by itself and 1 \n",
    "\n",
    "# Hint: what numbers do we have to check? \n",
    "\n",
    "num=int(input(\"Please write a number:\"))\n",
    "not_prime = False\n",
    "if num > 1:\n",
    "    for i in range(2, num):\n",
    "        if num % i == 0:\n",
    "            not_prime = True\n",
    "            print(f\"{num} dividies by {i}, thus not a prime\")\n",
    "            break\n",
    "\n",
    "if not_prime:\n",
    "    print(num, \"is not a prime number\")\n",
    "else:\n",
    "    print(num, \"is a prime number\")"
   ]
  }
 ],
 "metadata": {
  "kernelspec": {
   "display_name": "Python 3.8.8 ('myenv': venv)",
   "language": "python",
   "name": "python3"
  },
  "language_info": {
   "codemirror_mode": {
    "name": "ipython",
    "version": 3
   },
   "file_extension": ".py",
   "mimetype": "text/x-python",
   "name": "python",
   "nbconvert_exporter": "python",
   "pygments_lexer": "ipython3",
   "version": "3.8.8"
  },
  "orig_nbformat": 4,
  "vscode": {
   "interpreter": {
    "hash": "f4399fc022079f002860625cc5707f51dba9801f67dbcb5cf226f7f6d65ac101"
   }
  }
 },
 "nbformat": 4,
 "nbformat_minor": 2
}
