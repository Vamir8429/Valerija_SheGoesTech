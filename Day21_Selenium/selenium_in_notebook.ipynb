{
 "cells": [
  {
   "cell_type": "code",
   "execution_count": 1,
   "metadata": {},
   "outputs": [],
   "source": [
    "# let's import the selenium library\n",
    "import selenium\n",
    "# let's import the webdriver\n",
    "from selenium import webdriver\n",
    "# let's import the keys\n",
    "from selenium.webdriver.common.keys import Keys\n",
    "from selenium.webdriver.common.by import By\n",
    "# let's import the time\n",
    "import time\n",
    "# let's import the pandas for later use\n",
    "import pandas as pd\n"
   ]
  },
  {
   "cell_type": "code",
   "execution_count": null,
   "metadata": {},
   "outputs": [],
   "source": [
    "# where to download Selenium drivers\n",
    "# https://www.selenium.dev/documentation/en/webdriver/driver_requirements/\n",
    "# https://www.selenium.dev/documentation/webdriver/getting_started/install_drivers/"
   ]
  },
  {
   "cell_type": "code",
   "execution_count": 7,
   "metadata": {},
   "outputs": [],
   "source": [
    "from webdriver_manager.chrome import ChromeDriverManager\n",
    "from selenium.webdriver.chrome.service import Service"
   ]
  },
  {
   "cell_type": "code",
   "execution_count": 9,
   "metadata": {},
   "outputs": [
    {
     "name": "stderr",
     "output_type": "stream",
     "text": [
      "[WDM] - Downloading: 100%|██████████| 8.08M/8.08M [00:00<00:00, 10.1MB/s]\n"
     ]
    }
   ],
   "source": [
    "service = Service(executable_path=ChromeDriverManager().install())"
   ]
  },
  {
   "cell_type": "code",
   "execution_count": 10,
   "metadata": {},
   "outputs": [],
   "source": [
    "driver = webdriver.Chrome(service=service)"
   ]
  },
  {
   "cell_type": "code",
   "execution_count": 11,
   "metadata": {},
   "outputs": [
    {
     "ename": "WebDriverException",
     "evalue": "Message: 'chromedriver' executable needs to be in PATH. Please see https://chromedriver.chromium.org/home\n",
     "output_type": "error",
     "traceback": [
      "\u001b[0;31m---------------------------------------------------------------------------\u001b[0m",
      "\u001b[0;31mFileNotFoundError\u001b[0m                         Traceback (most recent call last)",
      "File \u001b[0;32m~/Desktop/IT journey/She Goes Tech/My Repositary/Valerija_SheGoesTech/myenv/lib/python3.8/site-packages/selenium/webdriver/common/service.py:71\u001b[0m, in \u001b[0;36mService.start\u001b[0;34m(self)\u001b[0m\n\u001b[1;32m     70\u001b[0m     cmd\u001b[39m.\u001b[39mextend(\u001b[39mself\u001b[39m\u001b[39m.\u001b[39mcommand_line_args())\n\u001b[0;32m---> 71\u001b[0m     \u001b[39mself\u001b[39m\u001b[39m.\u001b[39mprocess \u001b[39m=\u001b[39m subprocess\u001b[39m.\u001b[39;49mPopen(cmd, env\u001b[39m=\u001b[39;49m\u001b[39mself\u001b[39;49m\u001b[39m.\u001b[39;49menv,\n\u001b[1;32m     72\u001b[0m                                     close_fds\u001b[39m=\u001b[39;49msystem() \u001b[39m!=\u001b[39;49m \u001b[39m'\u001b[39;49m\u001b[39mWindows\u001b[39;49m\u001b[39m'\u001b[39;49m,\n\u001b[1;32m     73\u001b[0m                                     stdout\u001b[39m=\u001b[39;49m\u001b[39mself\u001b[39;49m\u001b[39m.\u001b[39;49mlog_file,\n\u001b[1;32m     74\u001b[0m                                     stderr\u001b[39m=\u001b[39;49m\u001b[39mself\u001b[39;49m\u001b[39m.\u001b[39;49mlog_file,\n\u001b[1;32m     75\u001b[0m                                     stdin\u001b[39m=\u001b[39;49mPIPE,\n\u001b[1;32m     76\u001b[0m                                     creationflags\u001b[39m=\u001b[39;49m\u001b[39mself\u001b[39;49m\u001b[39m.\u001b[39;49mcreationflags)\n\u001b[1;32m     77\u001b[0m \u001b[39mexcept\u001b[39;00m \u001b[39mTypeError\u001b[39;00m:\n",
      "File \u001b[0;32m/opt/anaconda3/lib/python3.8/subprocess.py:858\u001b[0m, in \u001b[0;36mPopen.__init__\u001b[0;34m(self, args, bufsize, executable, stdin, stdout, stderr, preexec_fn, close_fds, shell, cwd, env, universal_newlines, startupinfo, creationflags, restore_signals, start_new_session, pass_fds, encoding, errors, text)\u001b[0m\n\u001b[1;32m    855\u001b[0m             \u001b[39mself\u001b[39m\u001b[39m.\u001b[39mstderr \u001b[39m=\u001b[39m io\u001b[39m.\u001b[39mTextIOWrapper(\u001b[39mself\u001b[39m\u001b[39m.\u001b[39mstderr,\n\u001b[1;32m    856\u001b[0m                     encoding\u001b[39m=\u001b[39mencoding, errors\u001b[39m=\u001b[39merrors)\n\u001b[0;32m--> 858\u001b[0m     \u001b[39mself\u001b[39;49m\u001b[39m.\u001b[39;49m_execute_child(args, executable, preexec_fn, close_fds,\n\u001b[1;32m    859\u001b[0m                         pass_fds, cwd, env,\n\u001b[1;32m    860\u001b[0m                         startupinfo, creationflags, shell,\n\u001b[1;32m    861\u001b[0m                         p2cread, p2cwrite,\n\u001b[1;32m    862\u001b[0m                         c2pread, c2pwrite,\n\u001b[1;32m    863\u001b[0m                         errread, errwrite,\n\u001b[1;32m    864\u001b[0m                         restore_signals, start_new_session)\n\u001b[1;32m    865\u001b[0m \u001b[39mexcept\u001b[39;00m:\n\u001b[1;32m    866\u001b[0m     \u001b[39m# Cleanup if the child failed starting.\u001b[39;00m\n",
      "File \u001b[0;32m/opt/anaconda3/lib/python3.8/subprocess.py:1706\u001b[0m, in \u001b[0;36mPopen._execute_child\u001b[0;34m(self, args, executable, preexec_fn, close_fds, pass_fds, cwd, env, startupinfo, creationflags, shell, p2cread, p2cwrite, c2pread, c2pwrite, errread, errwrite, restore_signals, start_new_session)\u001b[0m\n\u001b[1;32m   1705\u001b[0m         err_msg \u001b[39m=\u001b[39m os\u001b[39m.\u001b[39mstrerror(errno_num)\n\u001b[0;32m-> 1706\u001b[0m     \u001b[39mraise\u001b[39;00m child_exception_type(errno_num, err_msg, err_filename)\n\u001b[1;32m   1707\u001b[0m \u001b[39mraise\u001b[39;00m child_exception_type(err_msg)\n",
      "\u001b[0;31mFileNotFoundError\u001b[0m: [Errno 2] No such file or directory: 'chromedriver'",
      "\nDuring handling of the above exception, another exception occurred:\n",
      "\u001b[0;31mWebDriverException\u001b[0m                        Traceback (most recent call last)",
      "Cell \u001b[0;32mIn [11], line 1\u001b[0m\n\u001b[0;32m----> 1\u001b[0m driver \u001b[39m=\u001b[39m webdriver\u001b[39m.\u001b[39;49mChrome()\n",
      "File \u001b[0;32m~/Desktop/IT journey/She Goes Tech/My Repositary/Valerija_SheGoesTech/myenv/lib/python3.8/site-packages/selenium/webdriver/chrome/webdriver.py:69\u001b[0m, in \u001b[0;36mWebDriver.__init__\u001b[0;34m(self, executable_path, port, options, service_args, desired_capabilities, service_log_path, chrome_options, service, keep_alive)\u001b[0m\n\u001b[1;32m     66\u001b[0m \u001b[39mif\u001b[39;00m \u001b[39mnot\u001b[39;00m service:\n\u001b[1;32m     67\u001b[0m     service \u001b[39m=\u001b[39m Service(executable_path, port, service_args, service_log_path)\n\u001b[0;32m---> 69\u001b[0m \u001b[39msuper\u001b[39;49m()\u001b[39m.\u001b[39;49m\u001b[39m__init__\u001b[39;49m(DesiredCapabilities\u001b[39m.\u001b[39;49mCHROME[\u001b[39m'\u001b[39;49m\u001b[39mbrowserName\u001b[39;49m\u001b[39m'\u001b[39;49m], \u001b[39m\"\u001b[39;49m\u001b[39mgoog\u001b[39;49m\u001b[39m\"\u001b[39;49m,\n\u001b[1;32m     70\u001b[0m                  port, options,\n\u001b[1;32m     71\u001b[0m                  service_args, desired_capabilities,\n\u001b[1;32m     72\u001b[0m                  service_log_path, service, keep_alive)\n",
      "File \u001b[0;32m~/Desktop/IT journey/She Goes Tech/My Repositary/Valerija_SheGoesTech/myenv/lib/python3.8/site-packages/selenium/webdriver/chromium/webdriver.py:89\u001b[0m, in \u001b[0;36mChromiumDriver.__init__\u001b[0;34m(self, browser_name, vendor_prefix, port, options, service_args, desired_capabilities, service_log_path, service, keep_alive)\u001b[0m\n\u001b[1;32m     86\u001b[0m     \u001b[39mraise\u001b[39;00m \u001b[39mAttributeError\u001b[39;00m(\u001b[39m'\u001b[39m\u001b[39mservice cannot be None\u001b[39m\u001b[39m'\u001b[39m)\n\u001b[1;32m     88\u001b[0m \u001b[39mself\u001b[39m\u001b[39m.\u001b[39mservice \u001b[39m=\u001b[39m service\n\u001b[0;32m---> 89\u001b[0m \u001b[39mself\u001b[39;49m\u001b[39m.\u001b[39;49mservice\u001b[39m.\u001b[39;49mstart()\n\u001b[1;32m     91\u001b[0m \u001b[39mtry\u001b[39;00m:\n\u001b[1;32m     92\u001b[0m     \u001b[39msuper\u001b[39m()\u001b[39m.\u001b[39m\u001b[39m__init__\u001b[39m(\n\u001b[1;32m     93\u001b[0m         command_executor\u001b[39m=\u001b[39mChromiumRemoteConnection(\n\u001b[1;32m     94\u001b[0m             remote_server_addr\u001b[39m=\u001b[39m\u001b[39mself\u001b[39m\u001b[39m.\u001b[39mservice\u001b[39m.\u001b[39mservice_url,\n\u001b[1;32m     95\u001b[0m             browser_name\u001b[39m=\u001b[39mbrowser_name, vendor_prefix\u001b[39m=\u001b[39mvendor_prefix,\n\u001b[1;32m     96\u001b[0m             keep_alive\u001b[39m=\u001b[39mkeep_alive, ignore_proxy\u001b[39m=\u001b[39m_ignore_proxy),\n\u001b[1;32m     97\u001b[0m         options\u001b[39m=\u001b[39moptions)\n",
      "File \u001b[0;32m~/Desktop/IT journey/She Goes Tech/My Repositary/Valerija_SheGoesTech/myenv/lib/python3.8/site-packages/selenium/webdriver/common/service.py:81\u001b[0m, in \u001b[0;36mService.start\u001b[0;34m(self)\u001b[0m\n\u001b[1;32m     79\u001b[0m \u001b[39mexcept\u001b[39;00m \u001b[39mOSError\u001b[39;00m \u001b[39mas\u001b[39;00m err:\n\u001b[1;32m     80\u001b[0m     \u001b[39mif\u001b[39;00m err\u001b[39m.\u001b[39merrno \u001b[39m==\u001b[39m errno\u001b[39m.\u001b[39mENOENT:\n\u001b[0;32m---> 81\u001b[0m         \u001b[39mraise\u001b[39;00m WebDriverException(\n\u001b[1;32m     82\u001b[0m             \u001b[39m\"\u001b[39m\u001b[39m'\u001b[39m\u001b[39m{}\u001b[39;00m\u001b[39m'\u001b[39m\u001b[39m executable needs to be in PATH. \u001b[39m\u001b[39m{}\u001b[39;00m\u001b[39m\"\u001b[39m\u001b[39m.\u001b[39mformat(\n\u001b[1;32m     83\u001b[0m                 os\u001b[39m.\u001b[39mpath\u001b[39m.\u001b[39mbasename(\u001b[39mself\u001b[39m\u001b[39m.\u001b[39mpath), \u001b[39mself\u001b[39m\u001b[39m.\u001b[39mstart_error_message)\n\u001b[1;32m     84\u001b[0m         )\n\u001b[1;32m     85\u001b[0m     \u001b[39melif\u001b[39;00m err\u001b[39m.\u001b[39merrno \u001b[39m==\u001b[39m errno\u001b[39m.\u001b[39mEACCES:\n\u001b[1;32m     86\u001b[0m         \u001b[39mraise\u001b[39;00m WebDriverException(\n\u001b[1;32m     87\u001b[0m             \u001b[39m\"\u001b[39m\u001b[39m'\u001b[39m\u001b[39m{}\u001b[39;00m\u001b[39m'\u001b[39m\u001b[39m executable may have wrong permissions. \u001b[39m\u001b[39m{}\u001b[39;00m\u001b[39m\"\u001b[39m\u001b[39m.\u001b[39mformat(\n\u001b[1;32m     88\u001b[0m                 os\u001b[39m.\u001b[39mpath\u001b[39m.\u001b[39mbasename(\u001b[39mself\u001b[39m\u001b[39m.\u001b[39mpath), \u001b[39mself\u001b[39m\u001b[39m.\u001b[39mstart_error_message)\n\u001b[1;32m     89\u001b[0m         )\n",
      "\u001b[0;31mWebDriverException\u001b[0m: Message: 'chromedriver' executable needs to be in PATH. Please see https://chromedriver.chromium.org/home\n"
     ]
    }
   ],
   "source": [
    "driver = webdriver.Chrome() # we can use Firefox, Safari, Chrome\n",
    "# Chrome without path works because I have added the driver to the PATH in System Environment Variables\n",
    "# driver = webdriver.Firefox()\n",
    "# driver = webdriver.Safari()\n",
    "# driver = webdriver.Chrome('C:/DRIVERS/chromedriver.exe') if we want to specify the path to the driver\n",
    "\n",
    "# another alternative is ChromeDriverManager from webdriver_manager.chrome import ChromeDriverManager\n",
    "# thats a standalone package that can be installed with pip install webdriver_manager\n"
   ]
  },
  {
   "cell_type": "code",
   "execution_count": 12,
   "metadata": {},
   "outputs": [],
   "source": [
    "# make a get request to the website - open the website\n",
    "driver.get('https://www.google.com')"
   ]
  },
  {
   "cell_type": "code",
   "execution_count": null,
   "metadata": {},
   "outputs": [],
   "source": [
    "# <div class=\"QS5gu sy4vM\" role=\"none\">Piekrist visiem</div>"
   ]
  },
  {
   "cell_type": "code",
   "execution_count": 13,
   "metadata": {},
   "outputs": [
    {
     "data": {
      "text/plain": [
       "selenium.webdriver.remote.webelement.WebElement"
      ]
     },
     "execution_count": 13,
     "metadata": {},
     "output_type": "execute_result"
    }
   ],
   "source": [
    "# find element with class name QS5gu\n",
    "# to find elements we use find_element \n",
    "# we pass By.CLASS_NAME or By.CSS_SELECTOR By.ID or By.XPATH or By.LINK_TEXT\n",
    "my_element = driver.find_element(By.CLASS_NAME, 'QS5gu')\n",
    "type(my_element)"
   ]
  },
  {
   "cell_type": "code",
   "execution_count": 14,
   "metadata": {},
   "outputs": [
    {
     "data": {
      "text/plain": [
       "selenium.webdriver.remote.webelement.WebElement"
      ]
     },
     "execution_count": 14,
     "metadata": {},
     "output_type": "execute_result"
    }
   ],
   "source": [
    "# find search box by name, so you would need to know the name of the element\n",
    "# in this case it is q\n",
    "search_box = driver.find_element(By.NAME, 'q')\n",
    "type(search_box)"
   ]
  },
  {
   "cell_type": "code",
   "execution_count": 15,
   "metadata": {},
   "outputs": [],
   "source": [
    "# enter the text in the search box\n",
    "search_box.send_keys('SHEGOESTECH' + Keys.RETURN)"
   ]
  },
  {
   "cell_type": "code",
   "execution_count": 16,
   "metadata": {},
   "outputs": [
    {
     "data": {
      "text/plain": [
       "9"
      ]
     },
     "execution_count": 16,
     "metadata": {},
     "output_type": "execute_result"
    }
   ],
   "source": [
    "# find all elements with g\n",
    "\n",
    "g_elements = driver.find_elements(By.CLASS_NAME, 'g')\n",
    "len(g_elements)\n"
   ]
  },
  {
   "cell_type": "code",
   "execution_count": 17,
   "metadata": {},
   "outputs": [],
   "source": [
    "# click on the first element\n",
    "g_elements[0].click()"
   ]
  },
  {
   "cell_type": "code",
   "execution_count": 18,
   "metadata": {},
   "outputs": [
    {
     "data": {
      "text/plain": [
       "'She Goes Tech\\nhttps://shegoestech.lv\\nWomen with basic technology knowledge and higher education, interested in technologies, who are motivated to learn coding and other new things are welcome to ...'"
      ]
     },
     "execution_count": 18,
     "metadata": {},
     "output_type": "execute_result"
    }
   ],
   "source": [
    "g_elements[0].text"
   ]
  },
  {
   "cell_type": "code",
   "execution_count": null,
   "metadata": {},
   "outputs": [],
   "source": []
  },
  {
   "cell_type": "code",
   "execution_count": 21,
   "metadata": {},
   "outputs": [
    {
     "data": {
      "text/plain": [
       "'https://shegoestech.lv/'"
      ]
     },
     "execution_count": 21,
     "metadata": {},
     "output_type": "execute_result"
    }
   ],
   "source": [
    "# get link from google search result\n",
    "link = g_elements[0].find_element(By.TAG_NAME, 'a').get_attribute('href')\n",
    "link"
   ]
  },
  {
   "cell_type": "code",
   "execution_count": 25,
   "metadata": {},
   "outputs": [
    {
     "ename": "StaleElementReferenceException",
     "evalue": "Message: stale element reference: element is not attached to the page document\n  (Session info: chrome=106.0.5249.119)\nStacktrace:\n0   chromedriver                        0x0000000108e4a598 chromedriver + 4404632\n1   chromedriver                        0x0000000108dd1fa3 chromedriver + 3911587\n2   chromedriver                        0x0000000108a7ee6a chromedriver + 425578\n3   chromedriver                        0x0000000108a82037 chromedriver + 438327\n4   chromedriver                        0x0000000108a81ed7 chromedriver + 437975\n5   chromedriver                        0x0000000108a8219c chromedriver + 438684\n6   chromedriver                        0x0000000108ab8986 chromedriver + 661894\n7   chromedriver                        0x0000000108aabac0 chromedriver + 608960\n8   chromedriver                        0x0000000108ad4da2 chromedriver + 777634\n9   chromedriver                        0x0000000108aab465 chromedriver + 607333\n10  chromedriver                        0x0000000108ad4efe chromedriver + 777982\n11  chromedriver                        0x0000000108aebf79 chromedriver + 872313\n12  chromedriver                        0x0000000108ad4bd3 chromedriver + 777171\n13  chromedriver                        0x0000000108aa9ced chromedriver + 601325\n14  chromedriver                        0x0000000108aaae51 chromedriver + 605777\n15  chromedriver                        0x0000000108e1a0ce chromedriver + 4206798\n16  chromedriver                        0x0000000108e1e797 chromedriver + 4224919\n17  chromedriver                        0x0000000108e25a4f chromedriver + 4254287\n18  chromedriver                        0x0000000108e1f4da chromedriver + 4228314\n19  chromedriver                        0x0000000108df823f chromedriver + 4067903\n20  chromedriver                        0x0000000108e3c6a8 chromedriver + 4347560\n21  chromedriver                        0x0000000108e3c816 chromedriver + 4347926\n22  chromedriver                        0x0000000108e518fe chromedriver + 4434174\n23  libsystem_pthread.dylib             0x00007ff801dfe4f4 _pthread_start + 125\n24  libsystem_pthread.dylib             0x00007ff801dfa00f thread_start + 15\n",
     "output_type": "error",
     "traceback": [
      "\u001b[0;31m---------------------------------------------------------------------------\u001b[0m",
      "\u001b[0;31mStaleElementReferenceException\u001b[0m            Traceback (most recent call last)",
      "Cell \u001b[0;32mIn [25], line 1\u001b[0m\n\u001b[0;32m----> 1\u001b[0m my_element\u001b[39m.\u001b[39;49mclick()\n",
      "File \u001b[0;32m~/Desktop/IT journey/She Goes Tech/My Repositary/Valerija_SheGoesTech/myenv/lib/python3.8/site-packages/selenium/webdriver/remote/webelement.py:88\u001b[0m, in \u001b[0;36mWebElement.click\u001b[0;34m(self)\u001b[0m\n\u001b[1;32m     86\u001b[0m \u001b[39mdef\u001b[39;00m \u001b[39mclick\u001b[39m(\u001b[39mself\u001b[39m) \u001b[39m-\u001b[39m\u001b[39m>\u001b[39m \u001b[39mNone\u001b[39;00m:\n\u001b[1;32m     87\u001b[0m     \u001b[39m\"\"\"Clicks the element.\"\"\"\u001b[39;00m\n\u001b[0;32m---> 88\u001b[0m     \u001b[39mself\u001b[39;49m\u001b[39m.\u001b[39;49m_execute(Command\u001b[39m.\u001b[39;49mCLICK_ELEMENT)\n",
      "File \u001b[0;32m~/Desktop/IT journey/She Goes Tech/My Repositary/Valerija_SheGoesTech/myenv/lib/python3.8/site-packages/selenium/webdriver/remote/webelement.py:396\u001b[0m, in \u001b[0;36mWebElement._execute\u001b[0;34m(self, command, params)\u001b[0m\n\u001b[1;32m    394\u001b[0m     params \u001b[39m=\u001b[39m {}\n\u001b[1;32m    395\u001b[0m params[\u001b[39m'\u001b[39m\u001b[39mid\u001b[39m\u001b[39m'\u001b[39m] \u001b[39m=\u001b[39m \u001b[39mself\u001b[39m\u001b[39m.\u001b[39m_id\n\u001b[0;32m--> 396\u001b[0m \u001b[39mreturn\u001b[39;00m \u001b[39mself\u001b[39;49m\u001b[39m.\u001b[39;49m_parent\u001b[39m.\u001b[39;49mexecute(command, params)\n",
      "File \u001b[0;32m~/Desktop/IT journey/She Goes Tech/My Repositary/Valerija_SheGoesTech/myenv/lib/python3.8/site-packages/selenium/webdriver/remote/webdriver.py:429\u001b[0m, in \u001b[0;36mWebDriver.execute\u001b[0;34m(self, driver_command, params)\u001b[0m\n\u001b[1;32m    427\u001b[0m response \u001b[39m=\u001b[39m \u001b[39mself\u001b[39m\u001b[39m.\u001b[39mcommand_executor\u001b[39m.\u001b[39mexecute(driver_command, params)\n\u001b[1;32m    428\u001b[0m \u001b[39mif\u001b[39;00m response:\n\u001b[0;32m--> 429\u001b[0m     \u001b[39mself\u001b[39;49m\u001b[39m.\u001b[39;49merror_handler\u001b[39m.\u001b[39;49mcheck_response(response)\n\u001b[1;32m    430\u001b[0m     response[\u001b[39m'\u001b[39m\u001b[39mvalue\u001b[39m\u001b[39m'\u001b[39m] \u001b[39m=\u001b[39m \u001b[39mself\u001b[39m\u001b[39m.\u001b[39m_unwrap_value(\n\u001b[1;32m    431\u001b[0m         response\u001b[39m.\u001b[39mget(\u001b[39m'\u001b[39m\u001b[39mvalue\u001b[39m\u001b[39m'\u001b[39m, \u001b[39mNone\u001b[39;00m))\n\u001b[1;32m    432\u001b[0m     \u001b[39mreturn\u001b[39;00m response\n",
      "File \u001b[0;32m~/Desktop/IT journey/She Goes Tech/My Repositary/Valerija_SheGoesTech/myenv/lib/python3.8/site-packages/selenium/webdriver/remote/errorhandler.py:243\u001b[0m, in \u001b[0;36mErrorHandler.check_response\u001b[0;34m(self, response)\u001b[0m\n\u001b[1;32m    241\u001b[0m         alert_text \u001b[39m=\u001b[39m value[\u001b[39m'\u001b[39m\u001b[39malert\u001b[39m\u001b[39m'\u001b[39m]\u001b[39m.\u001b[39mget(\u001b[39m'\u001b[39m\u001b[39mtext\u001b[39m\u001b[39m'\u001b[39m)\n\u001b[1;32m    242\u001b[0m     \u001b[39mraise\u001b[39;00m exception_class(message, screen, stacktrace, alert_text)  \u001b[39m# type: ignore[call-arg]  # mypy is not smart enough here\u001b[39;00m\n\u001b[0;32m--> 243\u001b[0m \u001b[39mraise\u001b[39;00m exception_class(message, screen, stacktrace)\n",
      "\u001b[0;31mStaleElementReferenceException\u001b[0m: Message: stale element reference: element is not attached to the page document\n  (Session info: chrome=106.0.5249.119)\nStacktrace:\n0   chromedriver                        0x0000000108e4a598 chromedriver + 4404632\n1   chromedriver                        0x0000000108dd1fa3 chromedriver + 3911587\n2   chromedriver                        0x0000000108a7ee6a chromedriver + 425578\n3   chromedriver                        0x0000000108a82037 chromedriver + 438327\n4   chromedriver                        0x0000000108a81ed7 chromedriver + 437975\n5   chromedriver                        0x0000000108a8219c chromedriver + 438684\n6   chromedriver                        0x0000000108ab8986 chromedriver + 661894\n7   chromedriver                        0x0000000108aabac0 chromedriver + 608960\n8   chromedriver                        0x0000000108ad4da2 chromedriver + 777634\n9   chromedriver                        0x0000000108aab465 chromedriver + 607333\n10  chromedriver                        0x0000000108ad4efe chromedriver + 777982\n11  chromedriver                        0x0000000108aebf79 chromedriver + 872313\n12  chromedriver                        0x0000000108ad4bd3 chromedriver + 777171\n13  chromedriver                        0x0000000108aa9ced chromedriver + 601325\n14  chromedriver                        0x0000000108aaae51 chromedriver + 605777\n15  chromedriver                        0x0000000108e1a0ce chromedriver + 4206798\n16  chromedriver                        0x0000000108e1e797 chromedriver + 4224919\n17  chromedriver                        0x0000000108e25a4f chromedriver + 4254287\n18  chromedriver                        0x0000000108e1f4da chromedriver + 4228314\n19  chromedriver                        0x0000000108df823f chromedriver + 4067903\n20  chromedriver                        0x0000000108e3c6a8 chromedriver + 4347560\n21  chromedriver                        0x0000000108e3c816 chromedriver + 4347926\n22  chromedriver                        0x0000000108e518fe chromedriver + 4434174\n23  libsystem_pthread.dylib             0x00007ff801dfe4f4 _pthread_start + 125\n24  libsystem_pthread.dylib             0x00007ff801dfa00f thread_start + 15\n"
     ]
    }
   ],
   "source": [
    "my_element.click() # simulates a click on the element"
   ]
  },
  {
   "cell_type": "code",
   "execution_count": 23,
   "metadata": {},
   "outputs": [
    {
     "ename": "StaleElementReferenceException",
     "evalue": "Message: stale element reference: element is not attached to the page document\n  (Session info: chrome=106.0.5249.119)\nStacktrace:\n0   chromedriver                        0x0000000108e4a598 chromedriver + 4404632\n1   chromedriver                        0x0000000108dd1fa3 chromedriver + 3911587\n2   chromedriver                        0x0000000108a7ee6a chromedriver + 425578\n3   chromedriver                        0x0000000108a82037 chromedriver + 438327\n4   chromedriver                        0x0000000108a81ed7 chromedriver + 437975\n5   chromedriver                        0x0000000108a8219c chromedriver + 438684\n6   chromedriver                        0x0000000108ab138b chromedriver + 631691\n7   chromedriver                        0x0000000108ad4da2 chromedriver + 777634\n8   chromedriver                        0x0000000108aab465 chromedriver + 607333\n9   chromedriver                        0x0000000108ad4efe chromedriver + 777982\n10  chromedriver                        0x0000000108aebf79 chromedriver + 872313\n11  chromedriver                        0x0000000108ad4bd3 chromedriver + 777171\n12  chromedriver                        0x0000000108aa9ced chromedriver + 601325\n13  chromedriver                        0x0000000108aaae51 chromedriver + 605777\n14  chromedriver                        0x0000000108e1a0ce chromedriver + 4206798\n15  chromedriver                        0x0000000108e1e797 chromedriver + 4224919\n16  chromedriver                        0x0000000108e25a4f chromedriver + 4254287\n17  chromedriver                        0x0000000108e1f4da chromedriver + 4228314\n18  chromedriver                        0x0000000108df823f chromedriver + 4067903\n19  chromedriver                        0x0000000108e3c6a8 chromedriver + 4347560\n20  chromedriver                        0x0000000108e3c816 chromedriver + 4347926\n21  chromedriver                        0x0000000108e518fe chromedriver + 4434174\n22  libsystem_pthread.dylib             0x00007ff801dfe4f4 _pthread_start + 125\n23  libsystem_pthread.dylib             0x00007ff801dfa00f thread_start + 15\n",
     "output_type": "error",
     "traceback": [
      "\u001b[0;31m---------------------------------------------------------------------------\u001b[0m",
      "\u001b[0;31mStaleElementReferenceException\u001b[0m            Traceback (most recent call last)",
      "Cell \u001b[0;32mIn [23], line 1\u001b[0m\n\u001b[0;32m----> 1\u001b[0m my_element\u001b[39m.\u001b[39;49mtext\n",
      "File \u001b[0;32m~/Desktop/IT journey/She Goes Tech/My Repositary/Valerija_SheGoesTech/myenv/lib/python3.8/site-packages/selenium/webdriver/remote/webelement.py:84\u001b[0m, in \u001b[0;36mWebElement.text\u001b[0;34m(self)\u001b[0m\n\u001b[1;32m     81\u001b[0m \u001b[39m@property\u001b[39m\n\u001b[1;32m     82\u001b[0m \u001b[39mdef\u001b[39;00m \u001b[39mtext\u001b[39m(\u001b[39mself\u001b[39m) \u001b[39m-\u001b[39m\u001b[39m>\u001b[39m \u001b[39mstr\u001b[39m:\n\u001b[1;32m     83\u001b[0m     \u001b[39m\"\"\"The text of the element.\"\"\"\u001b[39;00m\n\u001b[0;32m---> 84\u001b[0m     \u001b[39mreturn\u001b[39;00m \u001b[39mself\u001b[39;49m\u001b[39m.\u001b[39;49m_execute(Command\u001b[39m.\u001b[39;49mGET_ELEMENT_TEXT)[\u001b[39m'\u001b[39m\u001b[39mvalue\u001b[39m\u001b[39m'\u001b[39m]\n",
      "File \u001b[0;32m~/Desktop/IT journey/She Goes Tech/My Repositary/Valerija_SheGoesTech/myenv/lib/python3.8/site-packages/selenium/webdriver/remote/webelement.py:396\u001b[0m, in \u001b[0;36mWebElement._execute\u001b[0;34m(self, command, params)\u001b[0m\n\u001b[1;32m    394\u001b[0m     params \u001b[39m=\u001b[39m {}\n\u001b[1;32m    395\u001b[0m params[\u001b[39m'\u001b[39m\u001b[39mid\u001b[39m\u001b[39m'\u001b[39m] \u001b[39m=\u001b[39m \u001b[39mself\u001b[39m\u001b[39m.\u001b[39m_id\n\u001b[0;32m--> 396\u001b[0m \u001b[39mreturn\u001b[39;00m \u001b[39mself\u001b[39;49m\u001b[39m.\u001b[39;49m_parent\u001b[39m.\u001b[39;49mexecute(command, params)\n",
      "File \u001b[0;32m~/Desktop/IT journey/She Goes Tech/My Repositary/Valerija_SheGoesTech/myenv/lib/python3.8/site-packages/selenium/webdriver/remote/webdriver.py:429\u001b[0m, in \u001b[0;36mWebDriver.execute\u001b[0;34m(self, driver_command, params)\u001b[0m\n\u001b[1;32m    427\u001b[0m response \u001b[39m=\u001b[39m \u001b[39mself\u001b[39m\u001b[39m.\u001b[39mcommand_executor\u001b[39m.\u001b[39mexecute(driver_command, params)\n\u001b[1;32m    428\u001b[0m \u001b[39mif\u001b[39;00m response:\n\u001b[0;32m--> 429\u001b[0m     \u001b[39mself\u001b[39;49m\u001b[39m.\u001b[39;49merror_handler\u001b[39m.\u001b[39;49mcheck_response(response)\n\u001b[1;32m    430\u001b[0m     response[\u001b[39m'\u001b[39m\u001b[39mvalue\u001b[39m\u001b[39m'\u001b[39m] \u001b[39m=\u001b[39m \u001b[39mself\u001b[39m\u001b[39m.\u001b[39m_unwrap_value(\n\u001b[1;32m    431\u001b[0m         response\u001b[39m.\u001b[39mget(\u001b[39m'\u001b[39m\u001b[39mvalue\u001b[39m\u001b[39m'\u001b[39m, \u001b[39mNone\u001b[39;00m))\n\u001b[1;32m    432\u001b[0m     \u001b[39mreturn\u001b[39;00m response\n",
      "File \u001b[0;32m~/Desktop/IT journey/She Goes Tech/My Repositary/Valerija_SheGoesTech/myenv/lib/python3.8/site-packages/selenium/webdriver/remote/errorhandler.py:243\u001b[0m, in \u001b[0;36mErrorHandler.check_response\u001b[0;34m(self, response)\u001b[0m\n\u001b[1;32m    241\u001b[0m         alert_text \u001b[39m=\u001b[39m value[\u001b[39m'\u001b[39m\u001b[39malert\u001b[39m\u001b[39m'\u001b[39m]\u001b[39m.\u001b[39mget(\u001b[39m'\u001b[39m\u001b[39mtext\u001b[39m\u001b[39m'\u001b[39m)\n\u001b[1;32m    242\u001b[0m     \u001b[39mraise\u001b[39;00m exception_class(message, screen, stacktrace, alert_text)  \u001b[39m# type: ignore[call-arg]  # mypy is not smart enough here\u001b[39;00m\n\u001b[0;32m--> 243\u001b[0m \u001b[39mraise\u001b[39;00m exception_class(message, screen, stacktrace)\n",
      "\u001b[0;31mStaleElementReferenceException\u001b[0m: Message: stale element reference: element is not attached to the page document\n  (Session info: chrome=106.0.5249.119)\nStacktrace:\n0   chromedriver                        0x0000000108e4a598 chromedriver + 4404632\n1   chromedriver                        0x0000000108dd1fa3 chromedriver + 3911587\n2   chromedriver                        0x0000000108a7ee6a chromedriver + 425578\n3   chromedriver                        0x0000000108a82037 chromedriver + 438327\n4   chromedriver                        0x0000000108a81ed7 chromedriver + 437975\n5   chromedriver                        0x0000000108a8219c chromedriver + 438684\n6   chromedriver                        0x0000000108ab138b chromedriver + 631691\n7   chromedriver                        0x0000000108ad4da2 chromedriver + 777634\n8   chromedriver                        0x0000000108aab465 chromedriver + 607333\n9   chromedriver                        0x0000000108ad4efe chromedriver + 777982\n10  chromedriver                        0x0000000108aebf79 chromedriver + 872313\n11  chromedriver                        0x0000000108ad4bd3 chromedriver + 777171\n12  chromedriver                        0x0000000108aa9ced chromedriver + 601325\n13  chromedriver                        0x0000000108aaae51 chromedriver + 605777\n14  chromedriver                        0x0000000108e1a0ce chromedriver + 4206798\n15  chromedriver                        0x0000000108e1e797 chromedriver + 4224919\n16  chromedriver                        0x0000000108e25a4f chromedriver + 4254287\n17  chromedriver                        0x0000000108e1f4da chromedriver + 4228314\n18  chromedriver                        0x0000000108df823f chromedriver + 4067903\n19  chromedriver                        0x0000000108e3c6a8 chromedriver + 4347560\n20  chromedriver                        0x0000000108e3c816 chromedriver + 4347926\n21  chromedriver                        0x0000000108e518fe chromedriver + 4434174\n22  libsystem_pthread.dylib             0x00007ff801dfe4f4 _pthread_start + 125\n23  libsystem_pthread.dylib             0x00007ff801dfa00f thread_start + 15\n"
     ]
    }
   ],
   "source": [
    "my_element.text"
   ]
  },
  {
   "cell_type": "code",
   "execution_count": 11,
   "metadata": {},
   "outputs": [
    {
     "data": {
      "text/plain": [
       "selenium.webdriver.chrome.webdriver.WebDriver"
      ]
     },
     "execution_count": 11,
     "metadata": {},
     "output_type": "execute_result"
    }
   ],
   "source": [
    "type(driver)"
   ]
  }
 ],
 "metadata": {
  "kernelspec": {
   "display_name": "Python 3.8.8 ('myenv': venv)",
   "language": "python",
   "name": "python3"
  },
  "language_info": {
   "codemirror_mode": {
    "name": "ipython",
    "version": 3
   },
   "file_extension": ".py",
   "mimetype": "text/x-python",
   "name": "python",
   "nbconvert_exporter": "python",
   "pygments_lexer": "ipython3",
   "version": "3.8.8"
  },
  "orig_nbformat": 4,
  "vscode": {
   "interpreter": {
    "hash": "f4399fc022079f002860625cc5707f51dba9801f67dbcb5cf226f7f6d65ac101"
   }
  }
 },
 "nbformat": 4,
 "nbformat_minor": 2
}
