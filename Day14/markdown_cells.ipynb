{
 "cells": [
  {
   "cell_type": "code",
   "execution_count": null,
   "metadata": {},
   "outputs": [],
   "source": [
    "# Markdown cells\n",
    "# --------------\n",
    "#\n",
    "# # How to change the cell type?\n",
    "#\n",
    "# # Click on the Cell Type button in the upper left corner of the dashboard."
   ]
  },
  {
   "cell_type": "markdown",
   "metadata": {},
   "source": [
    "# Markdown cells\n",
    "\n",
    "## Cells meant for human eyes, no code is run here\n",
    "\n",
    "### I can do bullet lists\n",
    "* Buy Milk\n",
    "* Buy *Cookies* - italic the first * was used for bullet list\n",
    "* Buy **Chocolate** - in bold\n",
    "\n",
    "### I can do numbered lists\n",
    "1. Go to the store\n",
    "2. Buy from the shopping list\n",
    "3. Go home after your wallet\n",
    "4. Go back to the store\n",
    "\n",
    "### I can add links to web sites\n",
    "[Guide to Markdown](https://docs.github.com/en/get-started/writing-on-github/getting-started-with-writing-and-formatting-on-github/basic-writing-and-formatting-syntax)\n",
    "\n",
    "\n",
    "### I can also show pictures from local location\n",
    "![Some Graph](../mygraph.png)\n",
    "\n",
    "It would be better to link to a reliable external source as long as you have internet of course\n",
    "![Same Graph](https://github.com/ValRCS/Python_SheGoesTech_22/blob/main/mygraph.png?raw=true)\n",
    "\n",
    "### I can also hotlink images from external web locations\n",
    "![External Picture](https://upload.wikimedia.org/wikipedia/commons/6/62/Panthera_tigris_sumatran_subspecies.jpg)"
   ]
  },
  {
   "cell_type": "code",
   "execution_count": null,
   "metadata": {},
   "outputs": [],
   "source": [
    "#### this is a code cell - but it could be markdown as well\n",
    "#### main difference markdown cells do not run code"
   ]
  }
 ],
 "metadata": {
  "kernelspec": {
   "display_name": "Python 3.8.8 ('myenv': venv)",
   "language": "python",
   "name": "python3"
  },
  "language_info": {
   "codemirror_mode": {
    "name": "ipython",
    "version": 3
   },
   "file_extension": ".py",
   "mimetype": "text/x-python",
   "name": "python",
   "nbconvert_exporter": "python",
   "pygments_lexer": "ipython3",
   "version": "3.8.8"
  },
  "orig_nbformat": 4,
  "vscode": {
   "interpreter": {
    "hash": "f4399fc022079f002860625cc5707f51dba9801f67dbcb5cf226f7f6d65ac101"
   }
  }
 },
 "nbformat": 4,
 "nbformat_minor": 2
}
