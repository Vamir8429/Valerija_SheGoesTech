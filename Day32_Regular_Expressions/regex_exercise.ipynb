{
 "cells": [
  {
   "cell_type": "code",
   "execution_count": 1,
   "metadata": {},
   "outputs": [],
   "source": [
    "phone_text = \"\"\"\n",
    "+1 555 123 4567\n",
    "+1 555 123 456\n",
    "+1 555 123 45\n",
    "Latvia +371 20 123 456\n",
    "\n",
    "Lithuania +370 5 123 456\n",
    "\n",
    "Estonia +372 5123 456\n",
    "\n",
    "USA +1 408 123 4567\n",
    "\n",
    "sometimes we write our phone numbers like this: 555 123 4560\n",
    "\n",
    "sometimes we write our phone numbers like this: 555-123-4561\n",
    "\n",
    "sometimes we write our phone numbers like this: 555.123.4562 rarely\n",
    "also we use parentheses: (555) 123-4563\n",
    "\n",
    "so the assignment is to write a regular expression that will match all of these phone numbers\n",
    "\"\"\""
   ]
  },
  {
   "cell_type": "code",
   "execution_count": 2,
   "metadata": {},
   "outputs": [],
   "source": [
    "# TODO get all of these phone numbers using a regular expression\n",
    "# and return them as a list\n",
    "# see how many you can get\n",
    "# of course you can google for some regex ideas but first see how far you can get on your own"
   ]
  },
  {
   "cell_type": "code",
   "execution_count": 3,
   "metadata": {},
   "outputs": [],
   "source": [
    "import re\n",
    "reg_exp = \"\\+\\d+\\ \\d+ \\d+ \\d+|\\+\\d+\\ \\d+ \\d+|\\d+\\S\\d+\\S\\d+|\\d+\\s\\d+\\s\\d+|\\(\\d+\\)\\s\\d+\\S\\d+\""
   ]
  },
  {
   "cell_type": "code",
   "execution_count": 4,
   "metadata": {},
   "outputs": [
    {
     "data": {
      "text/plain": [
       "['+1 555 123 4567',\n",
       " '+1 555 123 456',\n",
       " '+1 555 123 45',\n",
       " '+371 20 123 456',\n",
       " '+370 5 123 456',\n",
       " '+372 5123 456',\n",
       " '+1 408 123 4567',\n",
       " '555 123 4560',\n",
       " '555-123-4561',\n",
       " '555.123.4562',\n",
       " '(555) 123-4563']"
      ]
     },
     "execution_count": 4,
     "metadata": {},
     "output_type": "execute_result"
    }
   ],
   "source": [
    "re.findall(reg_exp,phone_text)"
   ]
  }
 ],
 "metadata": {
  "kernelspec": {
   "display_name": "Python 3.8.8 ('myenv': venv)",
   "language": "python",
   "name": "python3"
  },
  "language_info": {
   "codemirror_mode": {
    "name": "ipython",
    "version": 3
   },
   "file_extension": ".py",
   "mimetype": "text/x-python",
   "name": "python",
   "nbconvert_exporter": "python",
   "pygments_lexer": "ipython3",
   "version": "3.8.8"
  },
  "orig_nbformat": 4,
  "vscode": {
   "interpreter": {
    "hash": "f4399fc022079f002860625cc5707f51dba9801f67dbcb5cf226f7f6d65ac101"
   }
  }
 },
 "nbformat": 4,
 "nbformat_minor": 2
}
