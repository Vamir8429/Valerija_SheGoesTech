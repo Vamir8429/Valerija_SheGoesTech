{
 "cells": [
  {
   "cell_type": "markdown",
   "metadata": {},
   "source": [
    "\n",
    "# TODO Homework\n",
    "\n",
    "read emojihub.json into a Python data structure\n",
    "\n",
    "* add new key emoji to each dictionary with value of emoji\n",
    "* to do so you will need to extract Unicode numerical value from htmlCode value\n",
    "* save the new data structure to a file called emojihub_with_emoji.json\n",
    "* TIP: remember about ensure_ascii=False and encoding='utf-8'\n",
    "\n",
    "* for those who did not finish the exercise in class\n",
    "* alternative assignment would be to use the classword to find a public API not seen in class\n",
    "* and use requests to get the data and parse it into a Python data structure\n",
    "* then save it to a file"
   ]
  },
  {
   "cell_type": "code",
   "execution_count": 1,
   "metadata": {},
   "outputs": [],
   "source": [
    "#so a single entry should look like this:\n",
    "    # {\n",
    "    #     \"name\": \"pear\",\n",
    "    #     \"category\": \"food and drink\",\n",
    "    #     \"group\": \"food fruit\",\n",
    "    #     \"htmlCode\": [\n",
    "    #         \"&#127824;\"\n",
    "    #     ],\n",
    "    #     \"unicode\": [\n",
    "    #         \"U+1F350\"\n",
    "    #     ],\n",
    "    #     \"emoji\": \"🍐\" \n",
    "    # },\n",
    "    # more fruits would follow"
   ]
  },
  {
   "cell_type": "code",
   "execution_count": 31,
   "metadata": {},
   "outputs": [],
   "source": [
    "import json\n",
    "import requests\n",
    "import pandas as pd\n",
    "import emoji\n",
    "import re"
   ]
  },
  {
   "cell_type": "code",
   "execution_count": 38,
   "metadata": {},
   "outputs": [],
   "source": [
    "def getJSON(url):\n",
    "    response = requests.get(url)\n",
    "    if response.status_code != 200:\n",
    "        print(\"Bad Response: \", response.status_code)\n",
    "        return None # alternative would be empty list or dict\n",
    "    else:\n",
    "        print(\"Good Response: \", response.status_code)\n",
    "        return json.loads(response.text)"
   ]
  },
  {
   "cell_type": "code",
   "execution_count": 39,
   "metadata": {},
   "outputs": [
    {
     "data": {
      "text/plain": [
       "list"
      ]
     },
     "execution_count": 39,
     "metadata": {},
     "output_type": "execute_result"
    }
   ],
   "source": [
    "#OPENING JSON AS PYTHON DATA STRUCTURE\n",
    "with open(\"emojihub.json\") as f:\n",
    "    emoji_list = json.load(f)\n",
    "type(emoji_list)"
   ]
  },
  {
   "cell_type": "code",
   "execution_count": 40,
   "metadata": {},
   "outputs": [
    {
     "data": {
      "text/plain": [
       "[{'name': 'grapes',\n",
       "  'category': 'food and drink',\n",
       "  'group': 'food fruit',\n",
       "  'htmlCode': ['&#127815;'],\n",
       "  'unicode': ['U+1F347']},\n",
       " {'name': 'melon',\n",
       "  'category': 'food and drink',\n",
       "  'group': 'food fruit',\n",
       "  'htmlCode': ['&#127816;'],\n",
       "  'unicode': ['U+1F348']},\n",
       " {'name': 'watermelon',\n",
       "  'category': 'food and drink',\n",
       "  'group': 'food fruit',\n",
       "  'htmlCode': ['&#127817;'],\n",
       "  'unicode': ['U+1F349']},\n",
       " {'name': 'tangerine',\n",
       "  'category': 'food and drink',\n",
       "  'group': 'food fruit',\n",
       "  'htmlCode': ['&#127818;'],\n",
       "  'unicode': ['U+1F34A']}]"
      ]
     },
     "execution_count": 40,
     "metadata": {},
     "output_type": "execute_result"
    }
   ],
   "source": [
    "emoji_list[:4]"
   ]
  },
  {
   "cell_type": "code",
   "execution_count": 24,
   "metadata": {},
   "outputs": [
    {
     "name": "stdout",
     "output_type": "stream",
     "text": [
      "{'name': 'amphora', 'category': 'food and drink', 'group': 'dishware', 'htmlCode': ['&#127994;'], 'unicode': ['U+1F3FA']}\n"
     ]
    }
   ],
   "source": [
    "#I AM CONVERTING LIST OF DICTIONARIES TO A SINGLE DICTIONARY\n",
    "emoji_list_dict={}\n",
    "for i in emoji_list:\n",
    "    emoji_list_dict.update(i)\n",
    "\n",
    "type(emoji_list_dict)\n",
    "print(emoji_list_dict)"
   ]
  },
  {
   "cell_type": "code",
   "execution_count": 41,
   "metadata": {},
   "outputs": [],
   "source": [
    "with open('emojihub.json', mode='w') as f:\n",
    "    f.write(json.dumps(emoji_list,indent=4))"
   ]
  },
  {
   "cell_type": "code",
   "execution_count": 42,
   "metadata": {},
   "outputs": [],
   "source": [
    "def create_emoji(emoji_list):\n",
    "    for c in emoji_list:\n",
    "        for j in c['htmlCode']:\n",
    "            emoji = chr(int(j[2:-1]))\n",
    "            c['emoji']=emoji\n",
    "    return emoji_list\n",
    "\n",
    "emojihub_with_emoji = create_emoji(emoji_list)"
   ]
  },
  {
   "cell_type": "code",
   "execution_count": 43,
   "metadata": {},
   "outputs": [],
   "source": [
    "with open('added_emoji.json', mode='w',encoding=\"utf-8\") as f:\n",
    "    f.write(json.dumps(emoji_list, indent=4,  ensure_ascii=False))"
   ]
  }
 ],
 "metadata": {
  "kernelspec": {
   "display_name": "Python 3.8.8 ('myenv': venv)",
   "language": "python",
   "name": "python3"
  },
  "language_info": {
   "codemirror_mode": {
    "name": "ipython",
    "version": 3
   },
   "file_extension": ".py",
   "mimetype": "text/x-python",
   "name": "python",
   "nbconvert_exporter": "python",
   "pygments_lexer": "ipython3",
   "version": "3.8.8"
  },
  "orig_nbformat": 4,
  "vscode": {
   "interpreter": {
    "hash": "f4399fc022079f002860625cc5707f51dba9801f67dbcb5cf226f7f6d65ac101"
   }
  }
 },
 "nbformat": 4,
 "nbformat_minor": 2
}
