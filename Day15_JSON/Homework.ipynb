{
 "cells": [
  {
   "cell_type": "markdown",
   "metadata": {},
   "source": [
    "\n",
    "# TODO Homework\n",
    "\n",
    "read emojihub.json into a Python data structure\n",
    "\n",
    "* add new key emoji to each dictionary with value of emoji\n",
    "* to do so you will need to extract Unicode numerical value from htmlCode value\n",
    "* save the new data structure to a file called emojihub_with_emoji.json\n",
    "* TIP: remember about ensure_ascii=False and encoding='utf-8'\n",
    "\n",
    "* for those who did not finish the exercise in class\n",
    "* alternative assignment would be to use the classword to find a public API not seen in class\n",
    "* and use requests to get the data and parse it into a Python data structure\n",
    "* then save it to a file"
   ]
  },
  {
   "cell_type": "code",
   "execution_count": 1,
   "metadata": {},
   "outputs": [],
   "source": [
    "#so a single entry should look like this:\n",
    "    # {\n",
    "    #     \"name\": \"pear\",\n",
    "    #     \"category\": \"food and drink\",\n",
    "    #     \"group\": \"food fruit\",\n",
    "    #     \"htmlCode\": [\n",
    "    #         \"&#127824;\"\n",
    "    #     ],\n",
    "    #     \"unicode\": [\n",
    "    #         \"U+1F350\"\n",
    "    #     ],\n",
    "    #     \"emoji\": \"🍐\" \n",
    "    # },\n",
    "    # more fruits would follow"
   ]
  }
 ],
 "metadata": {
  "kernelspec": {
   "display_name": "Python 3.8.8 ('myenv': venv)",
   "language": "python",
   "name": "python3"
  },
  "language_info": {
   "codemirror_mode": {
    "name": "ipython",
    "version": 3
   },
   "file_extension": ".py",
   "mimetype": "text/x-python",
   "name": "python",
   "nbconvert_exporter": "python",
   "pygments_lexer": "ipython3",
   "version": "3.8.8"
  },
  "orig_nbformat": 4,
  "vscode": {
   "interpreter": {
    "hash": "f4399fc022079f002860625cc5707f51dba9801f67dbcb5cf226f7f6d65ac101"
   }
  }
 },
 "nbformat": 4,
 "nbformat_minor": 2
}
